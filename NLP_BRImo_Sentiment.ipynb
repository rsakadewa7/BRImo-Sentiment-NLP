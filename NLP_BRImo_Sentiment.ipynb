{
  "cells": [
    {
      "cell_type": "markdown",
      "metadata": {
        "id": "zqXzE1EoBWBQ"
      },
      "source": [
        "# I. Import Library"
      ]
    },
    {
      "cell_type": "code",
      "execution_count": 29,
      "metadata": {
        "colab": {
          "base_uri": "https://localhost:8080/"
        },
        "id": "uBYmMqlFpfKU",
        "outputId": "1abdf627-4436-45b6-f983-b3046323cacf"
      },
      "outputs": [
        {
          "output_type": "stream",
          "name": "stdout",
          "text": [
            "Requirement already satisfied: tensorflow-addons in /usr/local/lib/python3.10/dist-packages (0.23.0)\n",
            "Requirement already satisfied: packaging in /usr/local/lib/python3.10/dist-packages (from tensorflow-addons) (24.2)\n",
            "Requirement already satisfied: typeguard<3.0.0,>=2.7 in /usr/local/lib/python3.10/dist-packages (from tensorflow-addons) (2.13.3)\n"
          ]
        }
      ],
      "source": [
        "!pip install tensorflow-addons"
      ]
    },
    {
      "cell_type": "code",
      "execution_count": 30,
      "metadata": {
        "colab": {
          "base_uri": "https://localhost:8080/"
        },
        "id": "Blp8-xMWex4J",
        "outputId": "5ffc5c91-fd0b-43e2-e570-b70974f9866b"
      },
      "outputs": [
        {
          "output_type": "stream",
          "name": "stdout",
          "text": [
            "Requirement already satisfied: tensorflow==2.11.0 in /usr/local/lib/python3.10/dist-packages (2.11.0)\n",
            "Requirement already satisfied: absl-py>=1.0.0 in /usr/local/lib/python3.10/dist-packages (from tensorflow==2.11.0) (1.4.0)\n",
            "Requirement already satisfied: astunparse>=1.6.0 in /usr/local/lib/python3.10/dist-packages (from tensorflow==2.11.0) (1.6.3)\n",
            "Requirement already satisfied: flatbuffers>=2.0 in /usr/local/lib/python3.10/dist-packages (from tensorflow==2.11.0) (24.3.25)\n",
            "Requirement already satisfied: gast<=0.4.0,>=0.2.1 in /usr/local/lib/python3.10/dist-packages (from tensorflow==2.11.0) (0.4.0)\n",
            "Requirement already satisfied: google-pasta>=0.1.1 in /usr/local/lib/python3.10/dist-packages (from tensorflow==2.11.0) (0.2.0)\n",
            "Requirement already satisfied: grpcio<2.0,>=1.24.3 in /usr/local/lib/python3.10/dist-packages (from tensorflow==2.11.0) (1.68.1)\n",
            "Requirement already satisfied: h5py>=2.9.0 in /usr/local/lib/python3.10/dist-packages (from tensorflow==2.11.0) (3.12.1)\n",
            "Requirement already satisfied: keras<2.12,>=2.11.0 in /usr/local/lib/python3.10/dist-packages (from tensorflow==2.11.0) (2.11.0)\n",
            "Requirement already satisfied: libclang>=13.0.0 in /usr/local/lib/python3.10/dist-packages (from tensorflow==2.11.0) (18.1.1)\n",
            "Requirement already satisfied: numpy>=1.20 in /usr/local/lib/python3.10/dist-packages (from tensorflow==2.11.0) (1.26.4)\n",
            "Requirement already satisfied: opt-einsum>=2.3.2 in /usr/local/lib/python3.10/dist-packages (from tensorflow==2.11.0) (3.4.0)\n",
            "Requirement already satisfied: packaging in /usr/local/lib/python3.10/dist-packages (from tensorflow==2.11.0) (24.2)\n",
            "Requirement already satisfied: protobuf<3.20,>=3.9.2 in /usr/local/lib/python3.10/dist-packages (from tensorflow==2.11.0) (3.19.6)\n",
            "Requirement already satisfied: setuptools in /usr/local/lib/python3.10/dist-packages (from tensorflow==2.11.0) (75.1.0)\n",
            "Requirement already satisfied: six>=1.12.0 in /usr/local/lib/python3.10/dist-packages (from tensorflow==2.11.0) (1.17.0)\n",
            "Requirement already satisfied: tensorboard<2.12,>=2.11 in /usr/local/lib/python3.10/dist-packages (from tensorflow==2.11.0) (2.11.2)\n",
            "Requirement already satisfied: tensorflow-estimator<2.12,>=2.11.0 in /usr/local/lib/python3.10/dist-packages (from tensorflow==2.11.0) (2.11.0)\n",
            "Requirement already satisfied: termcolor>=1.1.0 in /usr/local/lib/python3.10/dist-packages (from tensorflow==2.11.0) (2.5.0)\n",
            "Requirement already satisfied: typing-extensions>=3.6.6 in /usr/local/lib/python3.10/dist-packages (from tensorflow==2.11.0) (4.12.2)\n",
            "Requirement already satisfied: wrapt>=1.11.0 in /usr/local/lib/python3.10/dist-packages (from tensorflow==2.11.0) (1.17.0)\n",
            "Requirement already satisfied: tensorflow-io-gcs-filesystem>=0.23.1 in /usr/local/lib/python3.10/dist-packages (from tensorflow==2.11.0) (0.37.1)\n",
            "Requirement already satisfied: wheel<1.0,>=0.23.0 in /usr/local/lib/python3.10/dist-packages (from astunparse>=1.6.0->tensorflow==2.11.0) (0.45.1)\n",
            "Requirement already satisfied: google-auth<3,>=1.6.3 in /usr/local/lib/python3.10/dist-packages (from tensorboard<2.12,>=2.11->tensorflow==2.11.0) (2.27.0)\n",
            "Requirement already satisfied: google-auth-oauthlib<0.5,>=0.4.1 in /usr/local/lib/python3.10/dist-packages (from tensorboard<2.12,>=2.11->tensorflow==2.11.0) (0.4.6)\n",
            "Requirement already satisfied: markdown>=2.6.8 in /usr/local/lib/python3.10/dist-packages (from tensorboard<2.12,>=2.11->tensorflow==2.11.0) (3.7)\n",
            "Requirement already satisfied: requests<3,>=2.21.0 in /usr/local/lib/python3.10/dist-packages (from tensorboard<2.12,>=2.11->tensorflow==2.11.0) (2.32.3)\n",
            "Requirement already satisfied: tensorboard-data-server<0.7.0,>=0.6.0 in /usr/local/lib/python3.10/dist-packages (from tensorboard<2.12,>=2.11->tensorflow==2.11.0) (0.6.1)\n",
            "Requirement already satisfied: tensorboard-plugin-wit>=1.6.0 in /usr/local/lib/python3.10/dist-packages (from tensorboard<2.12,>=2.11->tensorflow==2.11.0) (1.8.1)\n",
            "Requirement already satisfied: werkzeug>=1.0.1 in /usr/local/lib/python3.10/dist-packages (from tensorboard<2.12,>=2.11->tensorflow==2.11.0) (3.1.3)\n",
            "Requirement already satisfied: cachetools<6.0,>=2.0.0 in /usr/local/lib/python3.10/dist-packages (from google-auth<3,>=1.6.3->tensorboard<2.12,>=2.11->tensorflow==2.11.0) (5.5.0)\n",
            "Requirement already satisfied: pyasn1-modules>=0.2.1 in /usr/local/lib/python3.10/dist-packages (from google-auth<3,>=1.6.3->tensorboard<2.12,>=2.11->tensorflow==2.11.0) (0.4.1)\n",
            "Requirement already satisfied: rsa<5,>=3.1.4 in /usr/local/lib/python3.10/dist-packages (from google-auth<3,>=1.6.3->tensorboard<2.12,>=2.11->tensorflow==2.11.0) (4.9)\n",
            "Requirement already satisfied: requests-oauthlib>=0.7.0 in /usr/local/lib/python3.10/dist-packages (from google-auth-oauthlib<0.5,>=0.4.1->tensorboard<2.12,>=2.11->tensorflow==2.11.0) (1.3.1)\n",
            "Requirement already satisfied: charset-normalizer<4,>=2 in /usr/local/lib/python3.10/dist-packages (from requests<3,>=2.21.0->tensorboard<2.12,>=2.11->tensorflow==2.11.0) (3.4.0)\n",
            "Requirement already satisfied: idna<4,>=2.5 in /usr/local/lib/python3.10/dist-packages (from requests<3,>=2.21.0->tensorboard<2.12,>=2.11->tensorflow==2.11.0) (3.10)\n",
            "Requirement already satisfied: urllib3<3,>=1.21.1 in /usr/local/lib/python3.10/dist-packages (from requests<3,>=2.21.0->tensorboard<2.12,>=2.11->tensorflow==2.11.0) (2.2.3)\n",
            "Requirement already satisfied: certifi>=2017.4.17 in /usr/local/lib/python3.10/dist-packages (from requests<3,>=2.21.0->tensorboard<2.12,>=2.11->tensorflow==2.11.0) (2024.12.14)\n",
            "Requirement already satisfied: MarkupSafe>=2.1.1 in /usr/local/lib/python3.10/dist-packages (from werkzeug>=1.0.1->tensorboard<2.12,>=2.11->tensorflow==2.11.0) (3.0.2)\n",
            "Requirement already satisfied: pyasn1<0.7.0,>=0.4.6 in /usr/local/lib/python3.10/dist-packages (from pyasn1-modules>=0.2.1->google-auth<3,>=1.6.3->tensorboard<2.12,>=2.11->tensorflow==2.11.0) (0.6.1)\n",
            "Requirement already satisfied: oauthlib>=3.0.0 in /usr/local/lib/python3.10/dist-packages (from requests-oauthlib>=0.7.0->google-auth-oauthlib<0.5,>=0.4.1->tensorboard<2.12,>=2.11->tensorflow==2.11.0) (3.2.2)\n"
          ]
        }
      ],
      "source": [
        "!pip install -U tensorflow==2.11.0"
      ]
    },
    {
      "cell_type": "code",
      "execution_count": 31,
      "metadata": {
        "colab": {
          "base_uri": "https://localhost:8080/"
        },
        "id": "ZgTdGLIYoBfC",
        "outputId": "dfe0caab-3975-4bad-9871-fd2bab7235fa"
      },
      "outputs": [
        {
          "output_type": "stream",
          "name": "stdout",
          "text": [
            "Requirement already satisfied: Sastrawi in /usr/local/lib/python3.10/dist-packages (1.0.1)\n",
            "Requirement already satisfied: datasets in /usr/local/lib/python3.10/dist-packages (3.2.0)\n",
            "Requirement already satisfied: filelock in /usr/local/lib/python3.10/dist-packages (from datasets) (3.16.1)\n",
            "Requirement already satisfied: numpy>=1.17 in /usr/local/lib/python3.10/dist-packages (from datasets) (1.26.4)\n",
            "Requirement already satisfied: pyarrow>=15.0.0 in /usr/local/lib/python3.10/dist-packages (from datasets) (17.0.0)\n",
            "Requirement already satisfied: dill<0.3.9,>=0.3.0 in /usr/local/lib/python3.10/dist-packages (from datasets) (0.3.8)\n",
            "Requirement already satisfied: pandas in /usr/local/lib/python3.10/dist-packages (from datasets) (2.2.2)\n",
            "Requirement already satisfied: requests>=2.32.2 in /usr/local/lib/python3.10/dist-packages (from datasets) (2.32.3)\n",
            "Requirement already satisfied: tqdm>=4.66.3 in /usr/local/lib/python3.10/dist-packages (from datasets) (4.67.1)\n",
            "Requirement already satisfied: xxhash in /usr/local/lib/python3.10/dist-packages (from datasets) (3.5.0)\n",
            "Requirement already satisfied: multiprocess<0.70.17 in /usr/local/lib/python3.10/dist-packages (from datasets) (0.70.16)\n",
            "Requirement already satisfied: fsspec<=2024.9.0,>=2023.1.0 in /usr/local/lib/python3.10/dist-packages (from fsspec[http]<=2024.9.0,>=2023.1.0->datasets) (2024.9.0)\n",
            "Requirement already satisfied: aiohttp in /usr/local/lib/python3.10/dist-packages (from datasets) (3.11.10)\n",
            "Requirement already satisfied: huggingface-hub>=0.23.0 in /usr/local/lib/python3.10/dist-packages (from datasets) (0.27.0)\n",
            "Requirement already satisfied: packaging in /usr/local/lib/python3.10/dist-packages (from datasets) (24.2)\n",
            "Requirement already satisfied: pyyaml>=5.1 in /usr/local/lib/python3.10/dist-packages (from datasets) (6.0.2)\n",
            "Requirement already satisfied: aiohappyeyeballs>=2.3.0 in /usr/local/lib/python3.10/dist-packages (from aiohttp->datasets) (2.4.4)\n",
            "Requirement already satisfied: aiosignal>=1.1.2 in /usr/local/lib/python3.10/dist-packages (from aiohttp->datasets) (1.3.2)\n",
            "Requirement already satisfied: async-timeout<6.0,>=4.0 in /usr/local/lib/python3.10/dist-packages (from aiohttp->datasets) (4.0.3)\n",
            "Requirement already satisfied: attrs>=17.3.0 in /usr/local/lib/python3.10/dist-packages (from aiohttp->datasets) (24.3.0)\n",
            "Requirement already satisfied: frozenlist>=1.1.1 in /usr/local/lib/python3.10/dist-packages (from aiohttp->datasets) (1.5.0)\n",
            "Requirement already satisfied: multidict<7.0,>=4.5 in /usr/local/lib/python3.10/dist-packages (from aiohttp->datasets) (6.1.0)\n",
            "Requirement already satisfied: propcache>=0.2.0 in /usr/local/lib/python3.10/dist-packages (from aiohttp->datasets) (0.2.1)\n",
            "Requirement already satisfied: yarl<2.0,>=1.17.0 in /usr/local/lib/python3.10/dist-packages (from aiohttp->datasets) (1.18.3)\n",
            "Requirement already satisfied: typing-extensions>=3.7.4.3 in /usr/local/lib/python3.10/dist-packages (from huggingface-hub>=0.23.0->datasets) (4.12.2)\n",
            "Requirement already satisfied: charset-normalizer<4,>=2 in /usr/local/lib/python3.10/dist-packages (from requests>=2.32.2->datasets) (3.4.0)\n",
            "Requirement already satisfied: idna<4,>=2.5 in /usr/local/lib/python3.10/dist-packages (from requests>=2.32.2->datasets) (3.10)\n",
            "Requirement already satisfied: urllib3<3,>=1.21.1 in /usr/local/lib/python3.10/dist-packages (from requests>=2.32.2->datasets) (2.2.3)\n",
            "Requirement already satisfied: certifi>=2017.4.17 in /usr/local/lib/python3.10/dist-packages (from requests>=2.32.2->datasets) (2024.12.14)\n",
            "Requirement already satisfied: python-dateutil>=2.8.2 in /usr/local/lib/python3.10/dist-packages (from pandas->datasets) (2.8.2)\n",
            "Requirement already satisfied: pytz>=2020.1 in /usr/local/lib/python3.10/dist-packages (from pandas->datasets) (2024.2)\n",
            "Requirement already satisfied: tzdata>=2022.7 in /usr/local/lib/python3.10/dist-packages (from pandas->datasets) (2024.2)\n",
            "Requirement already satisfied: six>=1.5 in /usr/local/lib/python3.10/dist-packages (from python-dateutil>=2.8.2->pandas->datasets) (1.17.0)\n",
            "Requirement already satisfied: transformers in /usr/local/lib/python3.10/dist-packages (4.47.1)\n",
            "Requirement already satisfied: filelock in /usr/local/lib/python3.10/dist-packages (from transformers) (3.16.1)\n",
            "Requirement already satisfied: huggingface-hub<1.0,>=0.24.0 in /usr/local/lib/python3.10/dist-packages (from transformers) (0.27.0)\n",
            "Requirement already satisfied: numpy>=1.17 in /usr/local/lib/python3.10/dist-packages (from transformers) (1.26.4)\n",
            "Requirement already satisfied: packaging>=20.0 in /usr/local/lib/python3.10/dist-packages (from transformers) (24.2)\n",
            "Requirement already satisfied: pyyaml>=5.1 in /usr/local/lib/python3.10/dist-packages (from transformers) (6.0.2)\n",
            "Requirement already satisfied: regex!=2019.12.17 in /usr/local/lib/python3.10/dist-packages (from transformers) (2024.11.6)\n",
            "Requirement already satisfied: requests in /usr/local/lib/python3.10/dist-packages (from transformers) (2.32.3)\n",
            "Requirement already satisfied: tokenizers<0.22,>=0.21 in /usr/local/lib/python3.10/dist-packages (from transformers) (0.21.0)\n",
            "Requirement already satisfied: safetensors>=0.4.1 in /usr/local/lib/python3.10/dist-packages (from transformers) (0.4.5)\n",
            "Requirement already satisfied: tqdm>=4.27 in /usr/local/lib/python3.10/dist-packages (from transformers) (4.67.1)\n",
            "Requirement already satisfied: fsspec>=2023.5.0 in /usr/local/lib/python3.10/dist-packages (from huggingface-hub<1.0,>=0.24.0->transformers) (2024.9.0)\n",
            "Requirement already satisfied: typing-extensions>=3.7.4.3 in /usr/local/lib/python3.10/dist-packages (from huggingface-hub<1.0,>=0.24.0->transformers) (4.12.2)\n",
            "Requirement already satisfied: charset-normalizer<4,>=2 in /usr/local/lib/python3.10/dist-packages (from requests->transformers) (3.4.0)\n",
            "Requirement already satisfied: idna<4,>=2.5 in /usr/local/lib/python3.10/dist-packages (from requests->transformers) (3.10)\n",
            "Requirement already satisfied: urllib3<3,>=1.21.1 in /usr/local/lib/python3.10/dist-packages (from requests->transformers) (2.2.3)\n",
            "Requirement already satisfied: certifi>=2017.4.17 in /usr/local/lib/python3.10/dist-packages (from requests->transformers) (2024.12.14)\n",
            "Requirement already satisfied: kagglehub in /usr/local/lib/python3.10/dist-packages (0.3.5)\n",
            "Requirement already satisfied: packaging in /usr/local/lib/python3.10/dist-packages (from kagglehub) (24.2)\n",
            "Requirement already satisfied: requests in /usr/local/lib/python3.10/dist-packages (from kagglehub) (2.32.3)\n",
            "Requirement already satisfied: tqdm in /usr/local/lib/python3.10/dist-packages (from kagglehub) (4.67.1)\n",
            "Requirement already satisfied: charset-normalizer<4,>=2 in /usr/local/lib/python3.10/dist-packages (from requests->kagglehub) (3.4.0)\n",
            "Requirement already satisfied: idna<4,>=2.5 in /usr/local/lib/python3.10/dist-packages (from requests->kagglehub) (3.10)\n",
            "Requirement already satisfied: urllib3<3,>=1.21.1 in /usr/local/lib/python3.10/dist-packages (from requests->kagglehub) (2.2.3)\n",
            "Requirement already satisfied: certifi>=2017.4.17 in /usr/local/lib/python3.10/dist-packages (from requests->kagglehub) (2024.12.14)\n"
          ]
        }
      ],
      "source": [
        "# Required installations\n",
        "!pip install Sastrawi\n",
        "!pip install datasets\n",
        "!pip install transformers\n",
        "!pip install kagglehub"
      ]
    },
    {
      "cell_type": "code",
      "execution_count": 32,
      "metadata": {
        "colab": {
          "base_uri": "https://localhost:8080/"
        },
        "id": "XeDXl0H_n_HJ",
        "outputId": "d423bcd0-a8c1-4e8d-9698-7699fb3a7a2f"
      },
      "outputs": [
        {
          "output_type": "stream",
          "name": "stderr",
          "text": [
            "[nltk_data] Downloading package punkt to /root/nltk_data...\n",
            "[nltk_data]   Package punkt is already up-to-date!\n",
            "[nltk_data] Downloading package stopwords to /root/nltk_data...\n",
            "[nltk_data]   Package stopwords is already up-to-date!\n"
          ]
        }
      ],
      "source": [
        "# Core Libraries\n",
        "import numpy as np\n",
        "import pandas as pd\n",
        "import json\n",
        "import pickle\n",
        "import re\n",
        "from collections import Counter\n",
        "\n",
        "# Visualization\n",
        "import matplotlib.pyplot as plt\n",
        "import seaborn as sns\n",
        "\n",
        "# Text Processing\n",
        "import nltk\n",
        "from nltk.corpus import stopwords\n",
        "from Sastrawi.Stemmer.StemmerFactory import StemmerFactory\n",
        "nltk.download('punkt')\n",
        "nltk.download('stopwords')\n",
        "\n",
        "# Scikit-Learn for Preprocessing and Metrics\n",
        "from sklearn.model_selection import train_test_split\n",
        "from sklearn.preprocessing import OneHotEncoder\n",
        "from sklearn.utils.class_weight import compute_class_weight\n",
        "from sklearn.metrics import f1_score, confusion_matrix, roc_auc_score, cohen_kappa_score\n",
        "\n",
        "# TensorFlow and Keras for Deep Learning\n",
        "import tensorflow as tf\n",
        "from tensorflow.keras.layers import Input, Dense, Dropout, Layer\n",
        "from tensorflow.keras.models import Model, load_model\n",
        "from tensorflow.keras.callbacks import ModelCheckpoint, EarlyStopping, ReduceLROnPlateau\n",
        "from tensorflow.keras.regularizers import l2\n",
        "from tensorflow.keras import backend as K\n",
        "\n",
        "# TensorFlow Addons for Advanced Optimization\n",
        "from tensorflow_addons.optimizers import AdamW\n",
        "\n",
        "# Hugging Face Transformers for Pretrained Models\n",
        "from transformers import AutoTokenizer, TFAutoModel, TFBertModel\n",
        "\n",
        "# Google Colab Utilities\n",
        "from google.colab import files\n",
        "\n",
        "# Kaggle Integration\n",
        "import kagglehub\n"
      ]
    },
    {
      "cell_type": "markdown",
      "metadata": {
        "id": "UnAFIlsyBdF2"
      },
      "source": [
        "# II. Data Loading"
      ]
    },
    {
      "cell_type": "code",
      "execution_count": 33,
      "metadata": {
        "colab": {
          "base_uri": "https://localhost:8080/"
        },
        "id": "JihtX5Srn_HM",
        "outputId": "57a4c93b-0910-4467-ec05-ce24d30fa5e8"
      },
      "outputs": [
        {
          "output_type": "stream",
          "name": "stdout",
          "text": [
            "Warning: Looks like you're using an outdated `kagglehub` version (installed: 0.3.5), please consider upgrading to the latest version (0.3.6).\n",
            "Downloading from https://www.kaggle.com/api/v1/datasets/download/dannytheodore/brimo-app-review?dataset_version_number=1...\n"
          ]
        },
        {
          "output_type": "stream",
          "name": "stderr",
          "text": [
            "100%|██████████| 0.98M/0.98M [00:00<00:00, 1.07MB/s]"
          ]
        },
        {
          "output_type": "stream",
          "name": "stdout",
          "text": [
            "Extracting files...\n"
          ]
        },
        {
          "output_type": "stream",
          "name": "stderr",
          "text": [
            "\n"
          ]
        }
      ],
      "source": [
        "# Load the dataset\n",
        "path = kagglehub.dataset_download(\"dannytheodore/brimo-app-review\")\n",
        "dataset_path = f\"{path}/brimo_googleplaystore_review.csv\"\n",
        "df = pd.read_csv(dataset_path, index_col=0)"
      ]
    },
    {
      "cell_type": "markdown",
      "source": [
        "Loading the dataset from Kaggle using the `kagglehub` API."
      ],
      "metadata": {
        "id": "KoRye2O9xf8B"
      }
    },
    {
      "cell_type": "markdown",
      "metadata": {
        "id": "WHPTDCzCBftN"
      },
      "source": [
        "# III. Exploratory Data Analysis (EDA)"
      ]
    },
    {
      "cell_type": "code",
      "execution_count": 34,
      "metadata": {
        "id": "8SI_xfqin_HN"
      },
      "outputs": [],
      "source": [
        "def word_frequency_table(df, column_name, top_n=10):\n",
        "    # Flatten the text in the column and split into words\n",
        "    words = ' '.join(df[column_name].dropna()).lower().split()\n",
        "\n",
        "    # Count the frequency of each word\n",
        "    word_counts = Counter(words)\n",
        "\n",
        "    # Create a DataFrame from the word counts\n",
        "    word_table = pd.DataFrame(word_counts.items(), columns=['Word', 'Frequency'])\n",
        "\n",
        "    # Sort the DataFrame by frequency in descending order\n",
        "    word_table = word_table.sort_values(by='Frequency', ascending=False).reset_index(drop=True)\n",
        "\n",
        "    # Return the top N words (default is 10)\n",
        "    return word_table.head(top_n)"
      ]
    },
    {
      "cell_type": "markdown",
      "source": [
        "This function counts the frequency of words in the `content` column of a dataset, identifying the most common words. It processes the text by flattening it, converting it to lowercase, and splitting it into words. These words are then counted, and a table of the most frequent ones is created, sorted in descending order. The function helps highlight popular terms that appear often in comments, which can be useful for understanding common topics or sentiments. <br>\n",
        "\n",
        "Based on **Zipf's Law**, which states that a few words are very common, and most words are rare, this function helps show the words that appear most frequently in the comments. **Luhn’s Hypothesis** suggests that significant words (those that add meaning) are less frequent than common ones but should still be noticed. By focusing on the most frequent meaningful words, this function can help improve text analysis, such as sentiment analysis, by identifying key terms and reducing noise from common but unimportant words. <br>\n",
        "\n",
        "<img src=\"https://mungingdata.wordpress.com/wp-content/uploads/2017/11/zipfs-and-luhn.png\" alt=\"Zipf's Law and Luhn's Algorithm\" width=\"400\" height=\"300\">\n"
      ],
      "metadata": {
        "id": "gnsFqxIoyd1R"
      }
    },
    {
      "cell_type": "code",
      "execution_count": 35,
      "metadata": {
        "colab": {
          "base_uri": "https://localhost:8080/",
          "height": 423
        },
        "id": "BXaIfNqqn_HN",
        "outputId": "9abd643a-5b29-41b5-d64a-7e29ac7d2e21"
      },
      "outputs": [
        {
          "output_type": "execute_result",
          "data": {
            "text/plain": [
              "          Word  Frequency\n",
              "0       sangat       3774\n",
              "1        bagus       2811\n",
              "2          dan       2101\n",
              "3     membantu       2032\n",
              "4           di       1900\n",
              "..         ...        ...\n",
              "95      terima        193\n",
              "96  registrasi        191\n",
              "97         pas        190\n",
              "98        coba        186\n",
              "99    rekening        184\n",
              "\n",
              "[100 rows x 2 columns]"
            ],
            "text/html": [
              "\n",
              "  <div id=\"df-592d0fe8-0d02-40c1-85b1-93e18f14e4d4\" class=\"colab-df-container\">\n",
              "    <div>\n",
              "<style scoped>\n",
              "    .dataframe tbody tr th:only-of-type {\n",
              "        vertical-align: middle;\n",
              "    }\n",
              "\n",
              "    .dataframe tbody tr th {\n",
              "        vertical-align: top;\n",
              "    }\n",
              "\n",
              "    .dataframe thead th {\n",
              "        text-align: right;\n",
              "    }\n",
              "</style>\n",
              "<table border=\"1\" class=\"dataframe\">\n",
              "  <thead>\n",
              "    <tr style=\"text-align: right;\">\n",
              "      <th></th>\n",
              "      <th>Word</th>\n",
              "      <th>Frequency</th>\n",
              "    </tr>\n",
              "  </thead>\n",
              "  <tbody>\n",
              "    <tr>\n",
              "      <th>0</th>\n",
              "      <td>sangat</td>\n",
              "      <td>3774</td>\n",
              "    </tr>\n",
              "    <tr>\n",
              "      <th>1</th>\n",
              "      <td>bagus</td>\n",
              "      <td>2811</td>\n",
              "    </tr>\n",
              "    <tr>\n",
              "      <th>2</th>\n",
              "      <td>dan</td>\n",
              "      <td>2101</td>\n",
              "    </tr>\n",
              "    <tr>\n",
              "      <th>3</th>\n",
              "      <td>membantu</td>\n",
              "      <td>2032</td>\n",
              "    </tr>\n",
              "    <tr>\n",
              "      <th>4</th>\n",
              "      <td>di</td>\n",
              "      <td>1900</td>\n",
              "    </tr>\n",
              "    <tr>\n",
              "      <th>...</th>\n",
              "      <td>...</td>\n",
              "      <td>...</td>\n",
              "    </tr>\n",
              "    <tr>\n",
              "      <th>95</th>\n",
              "      <td>terima</td>\n",
              "      <td>193</td>\n",
              "    </tr>\n",
              "    <tr>\n",
              "      <th>96</th>\n",
              "      <td>registrasi</td>\n",
              "      <td>191</td>\n",
              "    </tr>\n",
              "    <tr>\n",
              "      <th>97</th>\n",
              "      <td>pas</td>\n",
              "      <td>190</td>\n",
              "    </tr>\n",
              "    <tr>\n",
              "      <th>98</th>\n",
              "      <td>coba</td>\n",
              "      <td>186</td>\n",
              "    </tr>\n",
              "    <tr>\n",
              "      <th>99</th>\n",
              "      <td>rekening</td>\n",
              "      <td>184</td>\n",
              "    </tr>\n",
              "  </tbody>\n",
              "</table>\n",
              "<p>100 rows × 2 columns</p>\n",
              "</div>\n",
              "    <div class=\"colab-df-buttons\">\n",
              "\n",
              "  <div class=\"colab-df-container\">\n",
              "    <button class=\"colab-df-convert\" onclick=\"convertToInteractive('df-592d0fe8-0d02-40c1-85b1-93e18f14e4d4')\"\n",
              "            title=\"Convert this dataframe to an interactive table.\"\n",
              "            style=\"display:none;\">\n",
              "\n",
              "  <svg xmlns=\"http://www.w3.org/2000/svg\" height=\"24px\" viewBox=\"0 -960 960 960\">\n",
              "    <path d=\"M120-120v-720h720v720H120Zm60-500h600v-160H180v160Zm220 220h160v-160H400v160Zm0 220h160v-160H400v160ZM180-400h160v-160H180v160Zm440 0h160v-160H620v160ZM180-180h160v-160H180v160Zm440 0h160v-160H620v160Z\"/>\n",
              "  </svg>\n",
              "    </button>\n",
              "\n",
              "  <style>\n",
              "    .colab-df-container {\n",
              "      display:flex;\n",
              "      gap: 12px;\n",
              "    }\n",
              "\n",
              "    .colab-df-convert {\n",
              "      background-color: #E8F0FE;\n",
              "      border: none;\n",
              "      border-radius: 50%;\n",
              "      cursor: pointer;\n",
              "      display: none;\n",
              "      fill: #1967D2;\n",
              "      height: 32px;\n",
              "      padding: 0 0 0 0;\n",
              "      width: 32px;\n",
              "    }\n",
              "\n",
              "    .colab-df-convert:hover {\n",
              "      background-color: #E2EBFA;\n",
              "      box-shadow: 0px 1px 2px rgba(60, 64, 67, 0.3), 0px 1px 3px 1px rgba(60, 64, 67, 0.15);\n",
              "      fill: #174EA6;\n",
              "    }\n",
              "\n",
              "    .colab-df-buttons div {\n",
              "      margin-bottom: 4px;\n",
              "    }\n",
              "\n",
              "    [theme=dark] .colab-df-convert {\n",
              "      background-color: #3B4455;\n",
              "      fill: #D2E3FC;\n",
              "    }\n",
              "\n",
              "    [theme=dark] .colab-df-convert:hover {\n",
              "      background-color: #434B5C;\n",
              "      box-shadow: 0px 1px 3px 1px rgba(0, 0, 0, 0.15);\n",
              "      filter: drop-shadow(0px 1px 2px rgba(0, 0, 0, 0.3));\n",
              "      fill: #FFFFFF;\n",
              "    }\n",
              "  </style>\n",
              "\n",
              "    <script>\n",
              "      const buttonEl =\n",
              "        document.querySelector('#df-592d0fe8-0d02-40c1-85b1-93e18f14e4d4 button.colab-df-convert');\n",
              "      buttonEl.style.display =\n",
              "        google.colab.kernel.accessAllowed ? 'block' : 'none';\n",
              "\n",
              "      async function convertToInteractive(key) {\n",
              "        const element = document.querySelector('#df-592d0fe8-0d02-40c1-85b1-93e18f14e4d4');\n",
              "        const dataTable =\n",
              "          await google.colab.kernel.invokeFunction('convertToInteractive',\n",
              "                                                    [key], {});\n",
              "        if (!dataTable) return;\n",
              "\n",
              "        const docLinkHtml = 'Like what you see? Visit the ' +\n",
              "          '<a target=\"_blank\" href=https://colab.research.google.com/notebooks/data_table.ipynb>data table notebook</a>'\n",
              "          + ' to learn more about interactive tables.';\n",
              "        element.innerHTML = '';\n",
              "        dataTable['output_type'] = 'display_data';\n",
              "        await google.colab.output.renderOutput(dataTable, element);\n",
              "        const docLink = document.createElement('div');\n",
              "        docLink.innerHTML = docLinkHtml;\n",
              "        element.appendChild(docLink);\n",
              "      }\n",
              "    </script>\n",
              "  </div>\n",
              "\n",
              "\n",
              "<div id=\"df-a2a654a4-1204-4bb1-a72d-3085c8c8a4e7\">\n",
              "  <button class=\"colab-df-quickchart\" onclick=\"quickchart('df-a2a654a4-1204-4bb1-a72d-3085c8c8a4e7')\"\n",
              "            title=\"Suggest charts\"\n",
              "            style=\"display:none;\">\n",
              "\n",
              "<svg xmlns=\"http://www.w3.org/2000/svg\" height=\"24px\"viewBox=\"0 0 24 24\"\n",
              "     width=\"24px\">\n",
              "    <g>\n",
              "        <path d=\"M19 3H5c-1.1 0-2 .9-2 2v14c0 1.1.9 2 2 2h14c1.1 0 2-.9 2-2V5c0-1.1-.9-2-2-2zM9 17H7v-7h2v7zm4 0h-2V7h2v10zm4 0h-2v-4h2v4z\"/>\n",
              "    </g>\n",
              "</svg>\n",
              "  </button>\n",
              "\n",
              "<style>\n",
              "  .colab-df-quickchart {\n",
              "      --bg-color: #E8F0FE;\n",
              "      --fill-color: #1967D2;\n",
              "      --hover-bg-color: #E2EBFA;\n",
              "      --hover-fill-color: #174EA6;\n",
              "      --disabled-fill-color: #AAA;\n",
              "      --disabled-bg-color: #DDD;\n",
              "  }\n",
              "\n",
              "  [theme=dark] .colab-df-quickchart {\n",
              "      --bg-color: #3B4455;\n",
              "      --fill-color: #D2E3FC;\n",
              "      --hover-bg-color: #434B5C;\n",
              "      --hover-fill-color: #FFFFFF;\n",
              "      --disabled-bg-color: #3B4455;\n",
              "      --disabled-fill-color: #666;\n",
              "  }\n",
              "\n",
              "  .colab-df-quickchart {\n",
              "    background-color: var(--bg-color);\n",
              "    border: none;\n",
              "    border-radius: 50%;\n",
              "    cursor: pointer;\n",
              "    display: none;\n",
              "    fill: var(--fill-color);\n",
              "    height: 32px;\n",
              "    padding: 0;\n",
              "    width: 32px;\n",
              "  }\n",
              "\n",
              "  .colab-df-quickchart:hover {\n",
              "    background-color: var(--hover-bg-color);\n",
              "    box-shadow: 0 1px 2px rgba(60, 64, 67, 0.3), 0 1px 3px 1px rgba(60, 64, 67, 0.15);\n",
              "    fill: var(--button-hover-fill-color);\n",
              "  }\n",
              "\n",
              "  .colab-df-quickchart-complete:disabled,\n",
              "  .colab-df-quickchart-complete:disabled:hover {\n",
              "    background-color: var(--disabled-bg-color);\n",
              "    fill: var(--disabled-fill-color);\n",
              "    box-shadow: none;\n",
              "  }\n",
              "\n",
              "  .colab-df-spinner {\n",
              "    border: 2px solid var(--fill-color);\n",
              "    border-color: transparent;\n",
              "    border-bottom-color: var(--fill-color);\n",
              "    animation:\n",
              "      spin 1s steps(1) infinite;\n",
              "  }\n",
              "\n",
              "  @keyframes spin {\n",
              "    0% {\n",
              "      border-color: transparent;\n",
              "      border-bottom-color: var(--fill-color);\n",
              "      border-left-color: var(--fill-color);\n",
              "    }\n",
              "    20% {\n",
              "      border-color: transparent;\n",
              "      border-left-color: var(--fill-color);\n",
              "      border-top-color: var(--fill-color);\n",
              "    }\n",
              "    30% {\n",
              "      border-color: transparent;\n",
              "      border-left-color: var(--fill-color);\n",
              "      border-top-color: var(--fill-color);\n",
              "      border-right-color: var(--fill-color);\n",
              "    }\n",
              "    40% {\n",
              "      border-color: transparent;\n",
              "      border-right-color: var(--fill-color);\n",
              "      border-top-color: var(--fill-color);\n",
              "    }\n",
              "    60% {\n",
              "      border-color: transparent;\n",
              "      border-right-color: var(--fill-color);\n",
              "    }\n",
              "    80% {\n",
              "      border-color: transparent;\n",
              "      border-right-color: var(--fill-color);\n",
              "      border-bottom-color: var(--fill-color);\n",
              "    }\n",
              "    90% {\n",
              "      border-color: transparent;\n",
              "      border-bottom-color: var(--fill-color);\n",
              "    }\n",
              "  }\n",
              "</style>\n",
              "\n",
              "  <script>\n",
              "    async function quickchart(key) {\n",
              "      const quickchartButtonEl =\n",
              "        document.querySelector('#' + key + ' button');\n",
              "      quickchartButtonEl.disabled = true;  // To prevent multiple clicks.\n",
              "      quickchartButtonEl.classList.add('colab-df-spinner');\n",
              "      try {\n",
              "        const charts = await google.colab.kernel.invokeFunction(\n",
              "            'suggestCharts', [key], {});\n",
              "      } catch (error) {\n",
              "        console.error('Error during call to suggestCharts:', error);\n",
              "      }\n",
              "      quickchartButtonEl.classList.remove('colab-df-spinner');\n",
              "      quickchartButtonEl.classList.add('colab-df-quickchart-complete');\n",
              "    }\n",
              "    (() => {\n",
              "      let quickchartButtonEl =\n",
              "        document.querySelector('#df-a2a654a4-1204-4bb1-a72d-3085c8c8a4e7 button');\n",
              "      quickchartButtonEl.style.display =\n",
              "        google.colab.kernel.accessAllowed ? 'block' : 'none';\n",
              "    })();\n",
              "  </script>\n",
              "</div>\n",
              "\n",
              "    </div>\n",
              "  </div>\n"
            ],
            "application/vnd.google.colaboratory.intrinsic+json": {
              "type": "dataframe",
              "summary": "{\n  \"name\": \"word_frequency_table(df, 'content', top_n=100)\",\n  \"rows\": 100,\n  \"fields\": [\n    {\n      \"column\": \"Word\",\n      \"properties\": {\n        \"dtype\": \"string\",\n        \"num_unique_values\": 100,\n        \"samples\": [\n          \"uang\",\n          \"kali\",\n          \"lancar\"\n        ],\n        \"semantic_type\": \"\",\n        \"description\": \"\"\n      }\n    },\n    {\n      \"column\": \"Frequency\",\n      \"properties\": {\n        \"dtype\": \"number\",\n        \"std\": 586,\n        \"min\": 184,\n        \"max\": 3774,\n        \"num_unique_values\": 91,\n        \"samples\": [\n          420,\n          673,\n          293\n        ],\n        \"semantic_type\": \"\",\n        \"description\": \"\"\n      }\n    }\n  ]\n}"
            }
          },
          "metadata": {},
          "execution_count": 35
        }
      ],
      "source": [
        "word_frequency_table(df, 'content', top_n=100)"
      ]
    },
    {
      "cell_type": "markdown",
      "source": [
        "Applying the function and see the top 100 words used. After that select the words that mostly don't carry significant meaning and add that to the stopwords that will be removed from each comment."
      ],
      "metadata": {
        "id": "aa9Zb8EAzQPw"
      }
    },
    {
      "cell_type": "markdown",
      "metadata": {
        "id": "P2cTtrXWBoPU"
      },
      "source": [
        "# IV. Feature Engineering (FE)"
      ]
    },
    {
      "cell_type": "code",
      "execution_count": 36,
      "metadata": {
        "id": "r9eEM_gHn_HN"
      },
      "outputs": [],
      "source": [
        "# Text preprocessing function\n",
        "def preprocess_text(text, stop_words, stemmer):\n",
        "    try:\n",
        "        text = text.lower()\n",
        "        text = re.sub(\"@[A-Za-z0-9_]+\", \" \", text)  # Remove mentions\n",
        "        text = re.sub(\"#[A-Za-z0-9_]+\", \" \", text)  # Remove hashtags\n",
        "        text = re.sub(r\"\\\\n\", \" \", text)  # Remove newlines\n",
        "        text = re.sub(r\"http\\S+\", \" \", text)  # Remove URLs\n",
        "        text = re.sub(r\"www.\\S+\", \" \", text)  # Remove www URLs\n",
        "        text = re.sub(\"[^A-Za-z\\s']\", \" \", text)  # Remove non-letter characters\n",
        "        tokens = text.split()\n",
        "        tokens = [word for word in tokens if word not in stop_words]  # Remove stopwords\n",
        "        tokens = [stemmer.stem(word) for word in tokens]  # Apply stemming\n",
        "        return ' '.join(tokens)\n",
        "    except Exception as e:\n",
        "        print(f\"Error processing text: {text}\\n{e}\")\n",
        "        return text"
      ]
    },
    {
      "cell_type": "markdown",
      "source": [
        "Create a function to preprocess the data, such as making it lowercase, removing the hashtag, splitting it into tokens, and stemming it to simplify the token."
      ],
      "metadata": {
        "id": "z2ceFaBP095R"
      }
    },
    {
      "cell_type": "code",
      "execution_count": 37,
      "metadata": {
        "colab": {
          "base_uri": "https://localhost:8080/",
          "height": 388,
          "referenced_widgets": [
            "dff4e60840ab4d27abe42171e2512a4b",
            "a6e62e96e2654f89826ba1dfa25ea75f",
            "d1755d7ff8554db89e1e17d94bece4a2",
            "e2075724b57d41349dc72d5f6c73d823",
            "ae3093bdfa944e5b88a030307992d309",
            "6ec847f56f25416fa9baee918288e2d3",
            "889024f71ab844dcbe0b5bd706c81538",
            "f007267e046a42f39e61343de354a826",
            "039bb4620a604f7a8cb75e71a1e98711",
            "97e033c99d0042d98c1ba55dec1f3116",
            "9bc6068b33b24b21b4fcce9218452c6a",
            "23e3e47a9a9248909d9a3aca5a705f28",
            "6f6f9cc8688546878a5183349c8ad47e",
            "9800330e4611419db4605d87ce625313",
            "4fca68c3334f487d9873ffa7397c6d05",
            "b8b1398140264b068cfc980d281b37bb",
            "d0bf9e3777594feb955871bb8bf5804b",
            "d4d60e1143d744b5ade99e8763e263f7",
            "421a039f736e43a6990abb4495a0282c",
            "0893758ea5f54184b48c2f5a42b795cd",
            "6eed8c4ed1364ea787df335abd56e43e",
            "fb9e16afaf7d49e895805b8cba1b7ad9",
            "f871e91e06334df6bb36f95b48ec7cf8",
            "dc32fbdc43fa49bd97285298cfa7ce48",
            "22307352e3e340a191a5c5d5f2f956d0",
            "34e874ba025b456599b6cf5f7fa79e30",
            "7bd387e93ce54f75a37113b61af5b1ec",
            "db2d14bfa6d64368b8ec8c13576aec60",
            "7db1dcc51ecc4ee4b7865f50db3c58a6",
            "9b8a9a3a20fc4ee0b7a9665c4c439392",
            "c5ea42ac839a414ca3934d4a4cccb880",
            "59136286e4904dd581cdb2a653d56b0c",
            "9f341e3865214ccfbcf3bd0bca48d7dc",
            "143de8f83f2b460ca8a3947f5d116f52",
            "817492b3b9b34c739ab3a86b5d01ddb6",
            "9ba7df3d578d4f4593249b1b1e37dd78",
            "e17733dd4387439bb91975cc9f8b4e45",
            "cb17b5920a3449f981882f53109decc7",
            "61331941fe814398947d1c1ae403bdf4",
            "047e9deea0d642bd8d9b149b6aabe38c",
            "e0f4812d7b06422bba6295814248c7e2",
            "27a6ff23d58a4eefaecadaa068d57205",
            "fa4f6ef445db496da25af8a8316ee4be",
            "a95700200e0c4ff5b4612544dbc26a3e",
            "03b15e51abf740c9ac63c94b7c7fb746",
            "4440b108f9c14cc49e16b2bbef151e8e",
            "2910b21c784b4dfdb28beb3c4be5d397",
            "2b1830da7ff64c39b1ca7d4f7771e90e",
            "bdc544357605483db5983d85ae758df7",
            "f6d2a5ad32f8487995bc41f88a242ab6",
            "a7182ef5e59a4cbf8db7488c0d255994",
            "b7cc35b41d8643679910fdac93ee6cc5",
            "ce1e93d960e94273874aa10b3922f001",
            "ceec1be271cd4b22b59aee90af7b04be",
            "f5219bd5177c410b91617c6c899d8ab2"
          ]
        },
        "id": "cWcgejFOn_HO",
        "outputId": "34471a1c-0142-477e-9ba4-4e5fb5a7665f"
      },
      "outputs": [
        {
          "output_type": "stream",
          "name": "stderr",
          "text": [
            "/usr/local/lib/python3.10/dist-packages/huggingface_hub/utils/_auth.py:94: UserWarning: \n",
            "The secret `HF_TOKEN` does not exist in your Colab secrets.\n",
            "To authenticate with the Hugging Face Hub, create a token in your settings tab (https://huggingface.co/settings/tokens), set it as secret in your Google Colab and restart your session.\n",
            "You will be able to reuse this secret in all of your notebooks.\n",
            "Please note that authentication is recommended but still optional to access public models or datasets.\n",
            "  warnings.warn(\n"
          ]
        },
        {
          "output_type": "display_data",
          "data": {
            "text/plain": [
              "tokenizer_config.json:   0%|          | 0.00/2.00 [00:00<?, ?B/s]"
            ],
            "application/vnd.jupyter.widget-view+json": {
              "version_major": 2,
              "version_minor": 0,
              "model_id": "dff4e60840ab4d27abe42171e2512a4b"
            }
          },
          "metadata": {}
        },
        {
          "output_type": "display_data",
          "data": {
            "text/plain": [
              "config.json:   0%|          | 0.00/1.53k [00:00<?, ?B/s]"
            ],
            "application/vnd.jupyter.widget-view+json": {
              "version_major": 2,
              "version_minor": 0,
              "model_id": "23e3e47a9a9248909d9a3aca5a705f28"
            }
          },
          "metadata": {}
        },
        {
          "output_type": "display_data",
          "data": {
            "text/plain": [
              "vocab.txt:   0%|          | 0.00/229k [00:00<?, ?B/s]"
            ],
            "application/vnd.jupyter.widget-view+json": {
              "version_major": 2,
              "version_minor": 0,
              "model_id": "f871e91e06334df6bb36f95b48ec7cf8"
            }
          },
          "metadata": {}
        },
        {
          "output_type": "display_data",
          "data": {
            "text/plain": [
              "special_tokens_map.json:   0%|          | 0.00/112 [00:00<?, ?B/s]"
            ],
            "application/vnd.jupyter.widget-view+json": {
              "version_major": 2,
              "version_minor": 0,
              "model_id": "143de8f83f2b460ca8a3947f5d116f52"
            }
          },
          "metadata": {}
        },
        {
          "output_type": "display_data",
          "data": {
            "text/plain": [
              "tf_model.h5:   0%|          | 0.00/656M [00:00<?, ?B/s]"
            ],
            "application/vnd.jupyter.widget-view+json": {
              "version_major": 2,
              "version_minor": 0,
              "model_id": "03b15e51abf740c9ac63c94b7c7fb746"
            }
          },
          "metadata": {}
        },
        {
          "output_type": "stream",
          "name": "stderr",
          "text": [
            "Some layers from the model checkpoint at indobenchmark/indobert-base-p1 were not used when initializing TFBertModel: ['nsp___cls', 'mlm___cls']\n",
            "- This IS expected if you are initializing TFBertModel from the checkpoint of a model trained on another task or with another architecture (e.g. initializing a BertForSequenceClassification model from a BertForPreTraining model).\n",
            "- This IS NOT expected if you are initializing TFBertModel from the checkpoint of a model that you expect to be exactly identical (initializing a BertForSequenceClassification model from a BertForSequenceClassification model).\n",
            "All the layers of TFBertModel were initialized from the model checkpoint at indobenchmark/indobert-base-p1.\n",
            "If your task is similar to the task the model of the checkpoint was trained on, you can already use TFBertModel for predictions without further training.\n"
          ]
        }
      ],
      "source": [
        "# Load IndoBERT Tokenizer and Model\n",
        "tokenizer = AutoTokenizer.from_pretrained(\"indobenchmark/indobert-base-p1\")\n",
        "base_model = TFAutoModel.from_pretrained(\"indobenchmark/indobert-base-p1\")"
      ]
    },
    {
      "cell_type": "markdown",
      "source": [
        "`AutoTokenizer` loads the **IndoBERT-base-p1** model and its corresponding tokenizer from the **Hugging Face** model hub. The tokenizer converts raw text into token IDs and attention masks suitable for the model, while the `TFAutoModel` loads the pretrained IndoBERT model as a TensorFlow object, which then will be use for sentiment analysis on Indonesian text."
      ],
      "metadata": {
        "id": "yVRv1_U92C1U"
      }
    },
    {
      "cell_type": "code",
      "execution_count": 38,
      "metadata": {
        "id": "1oTcICBcn_HO"
      },
      "outputs": [],
      "source": [
        "# Custom Keras Layer to wrap the TFAutoModel\n",
        "class BertLayer(Layer):\n",
        "    def __init__(self, base_model, **kwargs):\n",
        "        super(BertLayer, self).__init__(**kwargs)\n",
        "        self.base_model = base_model\n",
        "\n",
        "    def call(self, inputs):\n",
        "        input_ids, attention_mask = inputs\n",
        "        outputs = self.base_model(input_ids=input_ids, attention_mask=attention_mask)\n",
        "        return outputs.last_hidden_state\n",
        "\n",
        "    def get_config(self):\n",
        "        config = super(BertLayer, self).get_config()\n",
        "        config.update({\"base_model\": self.base_model})\n",
        "        return config"
      ]
    },
    {
      "cell_type": "markdown",
      "source": [
        "Create a custom Keras layer called `BertLayer` to wrap the **TFAutoModel** (IndoBERT). In the `__init__` method, initialize the layer with the base model and pass any additional arguments. In the `call` method, define how the layer processes inputs: it takes `input_ids` and `attention_mask`, then passes them to the base model, returning the last hidden state. Finally, in the `get_config` method, include the `base_model` configuration so that it can be properly saved and restored."
      ],
      "metadata": {
        "id": "vc68Dj0_3R6p"
      }
    },
    {
      "cell_type": "code",
      "execution_count": 39,
      "metadata": {
        "id": "1mbg0PXAq1ft"
      },
      "outputs": [],
      "source": [
        "# Add Pooler Layer (from the first [CLS] token)\n",
        "class PoolerLayer(Layer):\n",
        "    def __init__(self, **kwargs):\n",
        "        super(PoolerLayer, self).__init__(**kwargs)\n",
        "\n",
        "    def call(self, inputs):\n",
        "        cls_token = inputs[:, 0, :]  # First token's output (the [CLS] token)\n",
        "        pooled_output = tf.keras.activations.tanh(cls_token)  # Apply tanh activation\n",
        "        return pooled_output"
      ]
    },
    {
      "cell_type": "markdown",
      "source": [
        "Create a custom Keras layer called `PoolerLayer` to extract the output from the first token (`[CLS]` token) for sentiment analysis. In the `call` method, select the first token's output from the model’s hidden states, then apply the **tanh** activation function to it. The resulting pooled output is returned, which can be used to classify the sentiment of the input text."
      ],
      "metadata": {
        "id": "_Tmvy4JZ3ds5"
      }
    },
    {
      "cell_type": "code",
      "execution_count": 40,
      "metadata": {
        "id": "PvH8zEown_HO"
      },
      "outputs": [],
      "source": [
        "# Map the labels to positive, neutral, negative\n",
        "def map_labels(score):\n",
        "    if score >= 4:\n",
        "        return 2  # Positive\n",
        "    elif score == 3:\n",
        "        return 1  # Neutral\n",
        "    else:\n",
        "        return 0  # Negative"
      ]
    },
    {
      "cell_type": "markdown",
      "source": [
        "Create a function called `map_labels` to map the review scores to sentiment labels: **positive**, **neutral**, and **negative**. The function takes the score as input and returns a corresponding label: a score of 4 or above is mapped to 2 (positive), a score of 3 is mapped to 1 (neutral), and scores below 3 are mapped to 0 (negative). This reduces the number of classes from a range of scores (e.g., 1-5) into three distinct sentiment categories, simplifying the task for sentiment analysis."
      ],
      "metadata": {
        "id": "fr8ALf_O4kOM"
      }
    },
    {
      "cell_type": "code",
      "execution_count": 41,
      "metadata": {
        "id": "oGYv1ZFIn_HO"
      },
      "outputs": [],
      "source": [
        "df['label'] = df['score'].apply(map_labels)"
      ]
    },
    {
      "cell_type": "markdown",
      "source": [
        "Apply the `map_labels` function to `score` column then create new column named `label`."
      ],
      "metadata": {
        "id": "Mqu19YC94pVP"
      }
    },
    {
      "cell_type": "code",
      "execution_count": 42,
      "metadata": {
        "id": "cTq1gDbYn_HO"
      },
      "outputs": [],
      "source": [
        "# Clean the text data\n",
        "manual_stopwords = [\"di\", \"ke\", \"dari\", \"yang\", \"dan\", \"atau\", \"dengan\", \"untuk\", \"ini\", \"itu\", \"aja\", \"saja\", \"lah\", \"bri\", \"brimo\", \"aplikasi\", \"rekening\", \"coba\", \"yg\", \"ke\", \"untuk\", \"nya\", \"saya\", \"dia\", \"dan\", \"sangat\", \"video\", \"login\", \"apk\", \"jadi\", \"akun\", \"malah\", \"uang\", \"banget\", \"dalam\", \"atm\", \"padahal\"]\n",
        "stop_words = set(stopwords.words('indonesian'))\n",
        "stop_words.update(manual_stopwords)\n",
        "factory = StemmerFactory()\n",
        "stemmer = factory.create_stemmer()\n",
        "cleaned_texts = [preprocess_text(text, stop_words, stemmer) for text in df['content'].tolist()]"
      ]
    },
    {
      "cell_type": "markdown",
      "source": [
        "Create a process to clean the text data by defining a set of **manual stopwords** specific to the dataset, such as common words and terms related to the application (e.g., \"di\", \"ke\", \"bri\", \"brimo\"). The NLTK stopwords for the Indonesian language are also loaded and combined with the manual stopwords. </br>\n",
        "\n",
        "Then, a **StemmerFactory** is used to create a stemmer for Indonesian text, which reduces words to their base forms. The `preprocess_text` function is applied to each review in the dataset, removing stopwords and stemming the remaining words, resulting in a list of cleaned texts ready for further analysis or modeling."
      ],
      "metadata": {
        "id": "nEY4JgOw5Cd_"
      }
    },
    {
      "cell_type": "code",
      "execution_count": 43,
      "metadata": {
        "id": "MGs72Culn_HP"
      },
      "outputs": [],
      "source": [
        "# One-Hot Encoding for Labels\n",
        "labels = df['label'].tolist()\n",
        "encoder = OneHotEncoder(sparse_output=False)\n",
        "labels_one_hot = encoder.fit_transform(np.array(labels).reshape(-1, 1))"
      ]
    },
    {
      "cell_type": "markdown",
      "source": [
        "Create a process for **One-Hot Encoding** the labels by first extracting the labels from the dataset. The `OneHotEncoder` from scikit-learn is then used to transform the labels into a one-hot encoded format, where each label is represented as a binary vector. The encoded labels are stored in `labels_one_hot`, which can be used as input for model training, enabling the model to learn distinct classes for each label."
      ],
      "metadata": {
        "id": "yszLpf2F5Rl4"
      }
    },
    {
      "cell_type": "code",
      "execution_count": 44,
      "metadata": {
        "id": "vQgiKY3bn_HP"
      },
      "outputs": [],
      "source": [
        "# Split the data into training, validation, and test sets (80% train, 10% validation, 10% test)\n",
        "train_texts, temp_texts, train_labels, temp_labels = train_test_split(cleaned_texts, labels_one_hot, test_size=0.2, random_state=42)\n",
        "val_texts, test_texts, val_labels, test_labels = train_test_split(temp_texts, temp_labels, test_size=0.5, random_state=42)"
      ]
    },
    {
      "cell_type": "markdown",
      "source": [
        "Create a process to **split the data** into training, validation, and test sets. First, the cleaned texts and one-hot encoded labels are split into training (80%) and temporary sets (20%). Then, the temporary set is further divided into validation and test sets, each containing 10% of the original data. This ensures that the model can be trained on a large portion of the data, while also having separate validation and test sets for model evaluation and tuning."
      ],
      "metadata": {
        "id": "AjVRU3-C5jOx"
      }
    },
    {
      "cell_type": "code",
      "execution_count": 45,
      "metadata": {
        "id": "dOrTXL_An_HP"
      },
      "outputs": [],
      "source": [
        "# Tokenize the training, validation, and test texts\n",
        "def tokenize_texts(texts, tokenizer, max_length=128):\n",
        "    return tokenizer(texts, padding='max_length', truncation=True, max_length=max_length, return_tensors='tf')"
      ]
    },
    {
      "cell_type": "markdown",
      "source": [
        "Tokenize the training, validation, and test texts using the provided tokenizer. The `tokenize_texts` function takes the texts and converts them into tokenized inputs suitable for the model. It ensures that each text is padded or truncated to a fixed length (default 128), returning the results as TensorFlow-compatible tensors for easy integration into the model."
      ],
      "metadata": {
        "id": "z_-wlblu5wd_"
      }
    },
    {
      "cell_type": "code",
      "execution_count": 46,
      "metadata": {
        "id": "kwdewgXXn_HP"
      },
      "outputs": [],
      "source": [
        "train_tokenized_inputs = tokenize_texts(train_texts, tokenizer)\n",
        "val_tokenized_inputs = tokenize_texts(val_texts, tokenizer)\n",
        "test_tokenized_inputs = tokenize_texts(test_texts, tokenizer)\n",
        "\n",
        "train_input_ids = train_tokenized_inputs['input_ids']\n",
        "train_attention_masks = train_tokenized_inputs['attention_mask']\n",
        "val_input_ids = val_tokenized_inputs['input_ids']\n",
        "val_attention_masks = val_tokenized_inputs['attention_mask']\n",
        "test_input_ids = test_tokenized_inputs['input_ids']\n",
        "test_attention_masks = test_tokenized_inputs['attention_mask']"
      ]
    },
    {
      "cell_type": "markdown",
      "source": [
        "Tokenize the training, validation, and test texts and extract the relevant components for model input. The `train_tokenized_inputs`, `val_tokenized_inputs`, and `test_tokenized_inputs` store the tokenized versions of the respective datasets. From these, the `input_ids` and `attention_mask` are extracted for each dataset, which are essential for the model to process the tokenized texts and handle padding properly during training and evaluation."
      ],
      "metadata": {
        "id": "EnTE7vzr51fg"
      }
    },
    {
      "cell_type": "code",
      "execution_count": 47,
      "metadata": {
        "id": "qn1_uSSAn_HP"
      },
      "outputs": [],
      "source": [
        "# Compute class weights for the model\n",
        "class_weights = compute_class_weight(\n",
        "    class_weight='balanced',\n",
        "    classes=np.unique(labels),\n",
        "    y=labels\n",
        ")\n",
        "class_weights_dict = {i: class_weights[i] for i in range(len(class_weights))}"
      ]
    },
    {
      "cell_type": "markdown",
      "source": [
        "Compute class weights to address class imbalance in the dataset. The `compute_class_weight` function calculates the weights for each class based on their frequency, ensuring that the model gives more attention to underrepresented classes during training. The `class_weights_dict` maps each class label to its corresponding weight, which can be used in the model training process to balance the contribution of each class and improve overall model performance."
      ],
      "metadata": {
        "id": "WmhnOGgX5-SG"
      }
    },
    {
      "cell_type": "code",
      "execution_count": 48,
      "metadata": {
        "id": "VtT2zga_n_HP"
      },
      "outputs": [],
      "source": [
        "# Convert datasets to TensorFlow datasets\n",
        "train_data_tf = tf.data.Dataset.from_tensor_slices(({\n",
        "    'input_ids': train_input_ids,\n",
        "    'attention_mask': train_attention_masks\n",
        "}, train_labels)).batch(32).shuffle(1000)\n",
        "\n",
        "val_data_tf = tf.data.Dataset.from_tensor_slices(({\n",
        "    'input_ids': val_input_ids,\n",
        "    'attention_mask': val_attention_masks\n",
        "}, val_labels)).batch(32)\n",
        "\n",
        "test_data_tf = tf.data.Dataset.from_tensor_slices(({\n",
        "    'input_ids': test_input_ids,\n",
        "    'attention_mask': test_attention_masks\n",
        "}, test_labels)).batch(32)"
      ]
    },
    {
      "cell_type": "markdown",
      "source": [
        "Convert the datasets into TensorFlow datasets for efficient processing during training, validation, and testing. The `train_data_tf`, `val_data_tf`, and `test_data_tf` are created by wrapping the tokenized inputs and labels into TensorFlow `Dataset` objects. These datasets are batched (with a batch size of 32) and shuffled for the training set to improve training efficiency and reduce overfitting. The validation and test datasets are also batched, but not shuffled, as they are used for evaluation."
      ],
      "metadata": {
        "id": "_mk1VpSI6EQ0"
      }
    },
    {
      "cell_type": "markdown",
      "metadata": {
        "id": "Pr-aXEAUBxl6"
      },
      "source": [
        "# V. Model Definition"
      ]
    },
    {
      "cell_type": "code",
      "execution_count": null,
      "metadata": {
        "id": "X72EvbA2n_HP"
      },
      "outputs": [],
      "source": [
        "# Define the model architecture\n",
        "input_ids = Input(shape=(128,), dtype=tf.int32, name='input_ids')\n",
        "attention_mask = Input(shape=(128,), dtype=tf.int32, name='attention_mask')"
      ]
    },
    {
      "cell_type": "markdown",
      "source": [
        "Define two input layers for the model: one for `input_ids` representing the tokenized text and another for `attention_mask` to specify which tokens should be attended to. Both inputs are set to a shape of (128,) to align with the tokenized text length."
      ],
      "metadata": {
        "id": "6NKJvZbS9KUy"
      }
    },
    {
      "cell_type": "code",
      "execution_count": null,
      "metadata": {
        "id": "LFeb0KZWn_HQ"
      },
      "outputs": [],
      "source": [
        "# Use the custom BertLayer\n",
        "embeddings = BertLayer(base_model)([input_ids, attention_mask])"
      ]
    },
    {
      "cell_type": "markdown",
      "source": [
        "Utilize the custom `BertLayer` to process the `input_ids` and `attention_mask` inputs, generating embeddings from the `base_model`. These embeddings represent the contextualized features of the input text."
      ],
      "metadata": {
        "id": "9T7AyLeW9S1a"
      }
    },
    {
      "cell_type": "code",
      "execution_count": null,
      "metadata": {
        "id": "mDqJ4GpIq7mX"
      },
      "outputs": [],
      "source": [
        "# Add Pooler Layer to get the [CLS] token output\n",
        "pooled_output = PoolerLayer()(embeddings)"
      ]
    },
    {
      "cell_type": "markdown",
      "source": [
        "Apply the `PoolerLayer` to extract the output of the `[CLS]` token, which serves as a summary representation of the entire input text. This pooled output is used for downstream tasks like sentiment classification."
      ],
      "metadata": {
        "id": "tsQMKQ6s9WOl"
      }
    },
    {
      "cell_type": "code",
      "execution_count": null,
      "metadata": {
        "id": "naZkCq5zn_HQ"
      },
      "outputs": [],
      "source": [
        "# Add a dropout layer for regularization\n",
        "dropout = Dropout(0.4)(pooled_output)"
      ]
    },
    {
      "cell_type": "markdown",
      "source": [
        "Introduce a `Dropout` layer with a rate of 0.4 to prevent overfitting by randomly setting **40%** of the units to zero during training. This helps improve the model's generalization ability."
      ],
      "metadata": {
        "id": "L-wtCWi19aAQ"
      }
    },
    {
      "cell_type": "code",
      "execution_count": null,
      "metadata": {
        "id": "utq-MwoXn_HQ"
      },
      "outputs": [],
      "source": [
        "# Add a dense layer with L2 regularization\n",
        "classifier = Dense(3, activation='softmax', kernel_regularizer=l2(0.01))(dropout)"
      ]
    },
    {
      "cell_type": "markdown",
      "source": [
        "Add a Dense layer with 3 units and a softmax activation function for multi-class classification. L2 regularization is applied to the layer's weights with a strength of 0.01 to prevent overfitting by penalizing large weight values."
      ],
      "metadata": {
        "id": "n4UCO0Bu9hRs"
      }
    },
    {
      "cell_type": "code",
      "execution_count": null,
      "metadata": {
        "id": "7Illt_Tqn_HQ"
      },
      "outputs": [],
      "source": [
        "# Define the complete model\n",
        "model = Model(inputs=[input_ids, attention_mask], outputs=classifier)"
      ]
    },
    {
      "cell_type": "markdown",
      "source": [
        "Define the model by specifying the inputs as `input_ids` and `attention_mask`, and the output as the classifier layer. This combines all the components into a complete architecture ready for training."
      ],
      "metadata": {
        "id": "VbeOK0jS9lsu"
      }
    },
    {
      "cell_type": "code",
      "execution_count": null,
      "metadata": {
        "id": "70hi3EUIsBXr"
      },
      "outputs": [],
      "source": [
        "# Freeze BERT layers\n",
        "for layer in base_model.layers:\n",
        "    layer.trainable = False  # Freeze BERT model layers\n",
        "\n",
        "# Make the classifier layer trainable\n",
        "for layer in model.layers:\n",
        "    if isinstance(layer, Dense):  # Or any other specific layer type you want to fine-tune\n",
        "        layer.trainable = True\n"
      ]
    },
    {
      "cell_type": "markdown",
      "source": [
        "Freeze the layers of the **BERT** model to retain its pre-trained weights while making the classifier layer trainable for fine-tuning. This allows the classifier to adapt to the specific task without altering the BERT layers."
      ],
      "metadata": {
        "id": "YPOBqms49pxW"
      }
    },
    {
      "cell_type": "code",
      "source": [
        "class F1Score(tf.keras.metrics.Metric):\n",
        "    def __init__(self, name=\"f1_score\", **kwargs):\n",
        "        super(F1Score, self).__init__(name=name, **kwargs)\n",
        "        self.true_positives = self.add_weight(name=\"tp\", initializer=\"zeros\")\n",
        "        self.false_positives = self.add_weight(name=\"fp\", initializer=\"zeros\")\n",
        "        self.false_negatives = self.add_weight(name=\"fn\", initializer=\"zeros\")\n",
        "\n",
        "    def update_state(self, y_true, y_pred, sample_weight=None):\n",
        "        # Convert probabilities to predicted class indices\n",
        "        y_pred = tf.argmax(y_pred, axis=-1)\n",
        "        y_true = tf.argmax(y_true, axis=-1)\n",
        "\n",
        "        # Calculate true positives, false positives, and false negatives\n",
        "        tp = tf.reduce_sum(tf.cast((y_true == y_pred) & (y_true != 0), tf.float32))\n",
        "        fp = tf.reduce_sum(tf.cast((y_true != y_pred) & (y_pred != 0), tf.float32))\n",
        "        fn = tf.reduce_sum(tf.cast((y_true != y_pred) & (y_true != 0), tf.float32))\n",
        "\n",
        "        # Update state variables\n",
        "        self.true_positives.assign_add(tp)\n",
        "        self.false_positives.assign_add(fp)\n",
        "        self.false_negatives.assign_add(fn)\n",
        "\n",
        "    def result(self):\n",
        "        precision = self.true_positives / (\n",
        "            self.true_positives + self.false_positives + K.epsilon()\n",
        "        )\n",
        "        recall = self.true_positives / (\n",
        "            self.true_positives + self.false_negatives + K.epsilon()\n",
        "        )\n",
        "        f1 = 2 * (precision * recall) / (precision + recall + K.epsilon())\n",
        "        return f1\n",
        "\n",
        "    def reset_state(self):\n",
        "        # Reset all state variables\n",
        "        self.true_positives.assign(0)\n",
        "        self.false_positives.assign(0)\n",
        "        self.false_negatives.assign(0)\n"
      ],
      "metadata": {
        "id": "mkbHqGQi8I5L"
      },
      "execution_count": 18,
      "outputs": []
    },
    {
      "cell_type": "markdown",
      "source": [
        "Create a custom `F1Score` class to compute the F1 score as a metric during model training. It tracks true positives, false positives, and false negatives, then calculates precision, recall, and the F1 score. The state is updated at each step, and the result is calculated by applying the F1 score formula."
      ],
      "metadata": {
        "id": "6a1UoHMQ9xYi"
      }
    },
    {
      "cell_type": "code",
      "execution_count": null,
      "metadata": {
        "id": "hvBTh288n_HQ"
      },
      "outputs": [],
      "source": [
        "# Compile the model with AdamW optimizer and Recall metric\n",
        "optimizer = AdamW(learning_rate=2e-5, weight_decay=1e-5)\n",
        "model.compile(\n",
        "    optimizer=optimizer,\n",
        "    loss='categorical_crossentropy',\n",
        "    metrics=[F1Score()]  # Add custom F1Score metric\n",
        ")"
      ]
    },
    {
      "cell_type": "markdown",
      "source": [
        "Compile the model using the AdamW optimizer with a learning rate of 2e-5 and weight decay of 1e-5. The model is configured with categorical cross-entropy loss and the custom `F1Score` metric to evaluate performance during training."
      ],
      "metadata": {
        "id": "1WVrnjmv91jK"
      }
    },
    {
      "cell_type": "markdown",
      "metadata": {
        "id": "y4pkwWOyB8eN"
      },
      "source": [
        "# VI. Model Training"
      ]
    },
    {
      "cell_type": "code",
      "source": [
        "# Model Checkpoint callback to save the best model during training\n",
        "checkpoint_callback = ModelCheckpoint(\"best_model.h5\",\n",
        "                                      save_best_only=True,\n",
        "                                      monitor='val_loss',\n",
        "                                      mode='min',\n",
        "                                      verbose=1)"
      ],
      "metadata": {
        "id": "_ztHzXg9YdY4"
      },
      "execution_count": null,
      "outputs": []
    },
    {
      "cell_type": "markdown",
      "source": [
        "Set up a **ModelCheckpoint** callback to save the best model during training. The model will be saved with the filename `best_model.h5` whenever the validation loss improves, ensuring that only the best-performing model is stored."
      ],
      "metadata": {
        "id": "9TTI-fnW-NAl"
      }
    },
    {
      "cell_type": "code",
      "execution_count": null,
      "metadata": {
        "id": "fEBSfQltn_HQ"
      },
      "outputs": [],
      "source": [
        "# Define the EarlyStopping callback\n",
        "early_stopping = EarlyStopping(\n",
        "    patience=3,          # Number of epochs with no improvement after which training will be stopped\n",
        "    restore_best_weights=True  # Restore model weights from the epoch with the best value of the monitored quantity\n",
        ")"
      ]
    },
    {
      "cell_type": "markdown",
      "source": [
        "Define an **EarlyStopping** callback to halt training if there is no improvement in the monitored metric (validation loss) for 3 consecutive epochs. This callback ensures that the model returns to its best state by restoring the weights from the epoch with the best performance."
      ],
      "metadata": {
        "id": "rvTIqQ1e-SZ5"
      }
    },
    {
      "cell_type": "code",
      "source": [
        "reduce_lr = ReduceLROnPlateau(\n",
        "    monitor='val_loss',\n",
        "    factor=0.1,\n",
        "    patience=2)"
      ],
      "metadata": {
        "id": "1tIPpO2BXYlW"
      },
      "execution_count": null,
      "outputs": []
    },
    {
      "cell_type": "markdown",
      "source": [
        "Set up a **ReduceLROnPlateau** callback to decrease the learning rate by a factor of 0.1 if the validation loss doesn't improve for 2 consecutive epochs. This helps in fine-tuning the learning process when the model plateaus, allowing for more gradual updates."
      ],
      "metadata": {
        "id": "g-3GUZgE-blX"
      }
    },
    {
      "cell_type": "code",
      "execution_count": null,
      "metadata": {
        "colab": {
          "base_uri": "https://localhost:8080/"
        },
        "id": "vvHPvD59n_HR",
        "outputId": "b9e8d7a7-eda9-442f-dd42-9988730f0b8d"
      },
      "outputs": [
        {
          "output_type": "stream",
          "name": "stdout",
          "text": [
            "Epoch 1/35\n",
            "431/431 [==============================] - ETA: 0s - loss: 1.2008 - f1_score: 0.4761\n",
            "Epoch 1: val_loss improved from inf to 0.82849, saving model to best_model.h5\n",
            "431/431 [==============================] - 1702s 4s/step - loss: 1.2008 - f1_score: 0.4761 - val_loss: 0.8285 - val_f1_score: 0.8193 - lr: 2.0000e-05\n",
            "Epoch 2/35\n",
            "431/431 [==============================] - ETA: 0s - loss: 1.1250 - f1_score: 0.6474\n",
            "Epoch 2: val_loss improved from 0.82849 to 0.75821, saving model to best_model.h5\n",
            "431/431 [==============================] - 1696s 4s/step - loss: 1.1250 - f1_score: 0.6474 - val_loss: 0.7582 - val_f1_score: 0.8154 - lr: 2.0000e-05\n",
            "Epoch 3/35\n",
            "431/431 [==============================] - ETA: 0s - loss: 1.0852 - f1_score: 0.6873\n",
            "Epoch 3: val_loss improved from 0.75821 to 0.72459, saving model to best_model.h5\n",
            "431/431 [==============================] - 1700s 4s/step - loss: 1.0852 - f1_score: 0.6873 - val_loss: 0.7246 - val_f1_score: 0.8202 - lr: 2.0000e-05\n",
            "Epoch 4/35\n",
            "431/431 [==============================] - ETA: 0s - loss: 1.0605 - f1_score: 0.6977\n",
            "Epoch 4: val_loss improved from 0.72459 to 0.68645, saving model to best_model.h5\n",
            "431/431 [==============================] - 1694s 4s/step - loss: 1.0605 - f1_score: 0.6977 - val_loss: 0.6865 - val_f1_score: 0.8324 - lr: 2.0000e-05\n",
            "Epoch 5/35\n",
            "431/431 [==============================] - ETA: 0s - loss: 1.0428 - f1_score: 0.7314\n",
            "Epoch 5: val_loss did not improve from 0.68645\n",
            "431/431 [==============================] - 1697s 4s/step - loss: 1.0428 - f1_score: 0.7314 - val_loss: 0.6902 - val_f1_score: 0.8229 - lr: 2.0000e-05\n",
            "Epoch 6/35\n",
            "431/431 [==============================] - ETA: 0s - loss: 1.0298 - f1_score: 0.7234\n",
            "Epoch 6: val_loss improved from 0.68645 to 0.66448, saving model to best_model.h5\n",
            "431/431 [==============================] - 1696s 4s/step - loss: 1.0298 - f1_score: 0.7234 - val_loss: 0.6645 - val_f1_score: 0.8337 - lr: 2.0000e-05\n",
            "Epoch 7/35\n",
            "431/431 [==============================] - ETA: 0s - loss: 1.0189 - f1_score: 0.7404\n",
            "Epoch 7: val_loss did not improve from 0.66448\n",
            "431/431 [==============================] - 1705s 4s/step - loss: 1.0189 - f1_score: 0.7404 - val_loss: 0.6744 - val_f1_score: 0.8255 - lr: 2.0000e-05\n",
            "Epoch 8/35\n",
            "431/431 [==============================] - ETA: 0s - loss: 0.9991 - f1_score: 0.7388\n",
            "Epoch 8: val_loss improved from 0.66448 to 0.64561, saving model to best_model.h5\n",
            "431/431 [==============================] - 1718s 4s/step - loss: 0.9991 - f1_score: 0.7388 - val_loss: 0.6456 - val_f1_score: 0.8374 - lr: 2.0000e-05\n",
            "Epoch 9/35\n",
            "431/431 [==============================] - ETA: 0s - loss: 0.9790 - f1_score: 0.7433\n",
            "Epoch 9: val_loss improved from 0.64561 to 0.62486, saving model to best_model.h5\n",
            "431/431 [==============================] - 1706s 4s/step - loss: 0.9790 - f1_score: 0.7433 - val_loss: 0.6249 - val_f1_score: 0.8455 - lr: 2.0000e-05\n",
            "Epoch 10/35\n",
            "431/431 [==============================] - ETA: 0s - loss: 0.9911 - f1_score: 0.7482\n",
            "Epoch 10: val_loss improved from 0.62486 to 0.61878, saving model to best_model.h5\n",
            "431/431 [==============================] - 1710s 4s/step - loss: 0.9911 - f1_score: 0.7482 - val_loss: 0.6188 - val_f1_score: 0.8510 - lr: 2.0000e-05\n",
            "Epoch 11/35\n",
            "431/431 [==============================] - ETA: 0s - loss: 0.9713 - f1_score: 0.7548\n",
            "Epoch 11: val_loss improved from 0.61878 to 0.61147, saving model to best_model.h5\n",
            "431/431 [==============================] - 1710s 4s/step - loss: 0.9713 - f1_score: 0.7548 - val_loss: 0.6115 - val_f1_score: 0.8452 - lr: 2.0000e-05\n",
            "Epoch 12/35\n",
            "431/431 [==============================] - ETA: 0s - loss: 0.9498 - f1_score: 0.7567\n",
            "Epoch 12: val_loss improved from 0.61147 to 0.60583, saving model to best_model.h5\n",
            "431/431 [==============================] - 1709s 4s/step - loss: 0.9498 - f1_score: 0.7567 - val_loss: 0.6058 - val_f1_score: 0.8487 - lr: 2.0000e-05\n",
            "Epoch 13/35\n",
            "431/431 [==============================] - ETA: 0s - loss: 0.9522 - f1_score: 0.7581\n",
            "Epoch 13: val_loss did not improve from 0.60583\n",
            "431/431 [==============================] - 1723s 4s/step - loss: 0.9522 - f1_score: 0.7581 - val_loss: 0.6064 - val_f1_score: 0.8462 - lr: 2.0000e-05\n",
            "Epoch 14/35\n",
            "431/431 [==============================] - ETA: 0s - loss: 0.9256 - f1_score: 0.7602\n",
            "Epoch 14: val_loss improved from 0.60583 to 0.60116, saving model to best_model.h5\n",
            "431/431 [==============================] - 1696s 4s/step - loss: 0.9256 - f1_score: 0.7602 - val_loss: 0.6012 - val_f1_score: 0.8503 - lr: 2.0000e-05\n",
            "Epoch 15/35\n",
            "431/431 [==============================] - ETA: 0s - loss: 0.9380 - f1_score: 0.7707\n",
            "Epoch 15: val_loss did not improve from 0.60116\n",
            "431/431 [==============================] - 1695s 4s/step - loss: 0.9380 - f1_score: 0.7707 - val_loss: 0.6017 - val_f1_score: 0.8479 - lr: 2.0000e-05\n",
            "Epoch 16/35\n",
            "431/431 [==============================] - ETA: 0s - loss: 0.9334 - f1_score: 0.7652\n",
            "Epoch 16: val_loss improved from 0.60116 to 0.59424, saving model to best_model.h5\n",
            "431/431 [==============================] - 1714s 4s/step - loss: 0.9334 - f1_score: 0.7652 - val_loss: 0.5942 - val_f1_score: 0.8466 - lr: 2.0000e-05\n",
            "Epoch 17/35\n",
            "431/431 [==============================] - ETA: 0s - loss: 0.9313 - f1_score: 0.7663\n",
            "Epoch 17: val_loss improved from 0.59424 to 0.58931, saving model to best_model.h5\n",
            "431/431 [==============================] - 1690s 4s/step - loss: 0.9313 - f1_score: 0.7663 - val_loss: 0.5893 - val_f1_score: 0.8522 - lr: 2.0000e-05\n",
            "Epoch 18/35\n",
            "431/431 [==============================] - ETA: 0s - loss: 0.9205 - f1_score: 0.7732\n",
            "Epoch 18: val_loss did not improve from 0.58931\n",
            "431/431 [==============================] - 1708s 4s/step - loss: 0.9205 - f1_score: 0.7732 - val_loss: 0.5900 - val_f1_score: 0.8501 - lr: 2.0000e-05\n",
            "Epoch 19/35\n",
            "431/431 [==============================] - ETA: 0s - loss: 0.9083 - f1_score: 0.7696\n",
            "Epoch 19: val_loss improved from 0.58931 to 0.57560, saving model to best_model.h5\n",
            "431/431 [==============================] - 1703s 4s/step - loss: 0.9083 - f1_score: 0.7696 - val_loss: 0.5756 - val_f1_score: 0.8563 - lr: 2.0000e-05\n",
            "Epoch 20/35\n",
            "431/431 [==============================] - ETA: 0s - loss: 0.9090 - f1_score: 0.7726\n",
            "Epoch 20: val_loss improved from 0.57560 to 0.56845, saving model to best_model.h5\n",
            "431/431 [==============================] - 1729s 4s/step - loss: 0.9090 - f1_score: 0.7726 - val_loss: 0.5685 - val_f1_score: 0.8566 - lr: 2.0000e-05\n",
            "Epoch 21/35\n",
            "431/431 [==============================] - ETA: 0s - loss: 0.9194 - f1_score: 0.7717\n",
            "Epoch 21: val_loss did not improve from 0.56845\n",
            "431/431 [==============================] - 1779s 4s/step - loss: 0.9194 - f1_score: 0.7717 - val_loss: 0.5733 - val_f1_score: 0.8550 - lr: 2.0000e-05\n",
            "Epoch 22/35\n",
            "431/431 [==============================] - ETA: 0s - loss: 0.8894 - f1_score: 0.7753\n",
            "Epoch 22: val_loss did not improve from 0.56845\n",
            "431/431 [==============================] - 1749s 4s/step - loss: 0.8894 - f1_score: 0.7753 - val_loss: 0.5733 - val_f1_score: 0.8563 - lr: 2.0000e-05\n",
            "Epoch 23/35\n",
            "431/431 [==============================] - ETA: 0s - loss: 0.8891 - f1_score: 0.7762\n",
            "Epoch 23: val_loss did not improve from 0.56845\n",
            "431/431 [==============================] - 1716s 4s/step - loss: 0.8891 - f1_score: 0.7762 - val_loss: 0.5722 - val_f1_score: 0.8563 - lr: 2.0000e-06\n"
          ]
        }
      ],
      "source": [
        "# Train the model with early stopping\n",
        "history = model.fit(\n",
        "    train_data_tf,\n",
        "    validation_data=val_data_tf,\n",
        "    epochs=35,\n",
        "    class_weight=class_weights_dict,\n",
        "    callbacks=[early_stopping, reduce_lr, checkpoint_callback]\n",
        ")"
      ]
    },
    {
      "cell_type": "markdown",
      "source": [
        "Trains the model using the training data and validates it with separate validation data. The training process includes the following features: <br>\n",
        "\n",
        "* **Class Weights**: Helps the model pay more attention to underrepresented classes.\n",
        "* **Early Stopping**: Stops training if the validation loss doesn’t improve for a few epochs, preventing overfitting.\n",
        "* **Reduce Learning Rate**: Lowers the learning rate if the validation loss stops improving, helping the model learn more effectively.\n",
        "* **Save Best Model**: Saves the model's best weights after each epoch\n",
        "\n",
        "After no improvement in validation loss during epochs 21 and 22, the Early Stopping callback was triggered. This helps in preventing overfitting by halting training early and restoring the model to the best weights, achieved at epoch 20 when the validation loss was at its lowest (0.56845). <br>\n",
        "\n",
        "With the key metrics:\n",
        "\n",
        "* **Training Loss**: Started at 1.2008 and gradually decreased to 0.5589 by epoch 20.\n",
        "* **Validation Loss**: Started at 0.8285 and reached its minimum of 0.56845 at epoch 20.\n",
        "* **Training F1 Score**: Started at 0.8193 and peaked at 0.8566 at epoch 20.\n",
        "* **Validation F1 Score**: Improved from 0.8193 to 0.8566 by epoch 20."
      ],
      "metadata": {
        "id": "hlUc5SKp-nZT"
      }
    },
    {
      "cell_type": "markdown",
      "metadata": {
        "id": "E22cLkQvCBVm"
      },
      "source": [
        "# VII. Model Saving"
      ]
    },
    {
      "cell_type": "markdown",
      "source": [
        "## A. Last Model"
      ],
      "metadata": {
        "id": "PH1PN_dqAKuK"
      }
    },
    {
      "cell_type": "code",
      "source": [
        "# Save the model and tokenizer\n",
        "model.save('last_model.h5')"
      ],
      "metadata": {
        "id": "b-itTlge-GX1"
      },
      "execution_count": null,
      "outputs": []
    },
    {
      "cell_type": "markdown",
      "source": [
        "## B. Tokenizer"
      ],
      "metadata": {
        "id": "5s5AprusAMgr"
      }
    },
    {
      "cell_type": "code",
      "source": [
        "tokenizer.save_pretrained('tokenizer')"
      ],
      "metadata": {
        "colab": {
          "base_uri": "https://localhost:8080/"
        },
        "id": "sAHYcPDh-Rs0",
        "outputId": "604c2317-0d47-491e-9d0b-b36c987672ed"
      },
      "execution_count": null,
      "outputs": [
        {
          "output_type": "execute_result",
          "data": {
            "text/plain": [
              "('tokenizer/tokenizer_config.json',\n",
              " 'tokenizer/special_tokens_map.json',\n",
              " 'tokenizer/vocab.txt',\n",
              " 'tokenizer/added_tokens.json',\n",
              " 'tokenizer/tokenizer.json')"
            ]
          },
          "metadata": {},
          "execution_count": 37
        }
      ]
    },
    {
      "cell_type": "markdown",
      "source": [
        "## C. Training History"
      ],
      "metadata": {
        "id": "yaM97VsRAOtm"
      }
    },
    {
      "cell_type": "code",
      "source": [
        "# Save the training history\n",
        "with open('training_history.pkl', 'wb') as f:\n",
        "    pickle.dump(history.history, f)\n"
      ],
      "metadata": {
        "id": "2je9hEYs-UVW"
      },
      "execution_count": null,
      "outputs": []
    },
    {
      "cell_type": "markdown",
      "source": [
        "## D. Class Weights"
      ],
      "metadata": {
        "id": "yCU6QXsiAQpq"
      }
    },
    {
      "cell_type": "code",
      "source": [
        "# Save the class weights\n",
        "np.save('class_weights.npy', class_weights_dict)"
      ],
      "metadata": {
        "id": "ggRcf5oP-X4p",
        "colab": {
          "base_uri": "https://localhost:8080/",
          "height": 0
        },
        "outputId": "6ed2204e-a67f-417e-d875-58f8a707b305"
      },
      "execution_count": 2,
      "outputs": [
        {
          "output_type": "error",
          "ename": "NameError",
          "evalue": "name 'np' is not defined",
          "traceback": [
            "\u001b[0;31m---------------------------------------------------------------------------\u001b[0m",
            "\u001b[0;31mNameError\u001b[0m                                 Traceback (most recent call last)",
            "\u001b[0;32m<ipython-input-2-2ca46530de49>\u001b[0m in \u001b[0;36m<cell line: 2>\u001b[0;34m()\u001b[0m\n\u001b[1;32m      1\u001b[0m \u001b[0;31m# Save the class weights\u001b[0m\u001b[0;34m\u001b[0m\u001b[0;34m\u001b[0m\u001b[0m\n\u001b[0;32m----> 2\u001b[0;31m \u001b[0mnp\u001b[0m\u001b[0;34m.\u001b[0m\u001b[0msave\u001b[0m\u001b[0;34m(\u001b[0m\u001b[0;34m'class_weights.npy'\u001b[0m\u001b[0;34m,\u001b[0m \u001b[0mclass_weights_dict\u001b[0m\u001b[0;34m)\u001b[0m\u001b[0;34m\u001b[0m\u001b[0;34m\u001b[0m\u001b[0m\n\u001b[0m",
            "\u001b[0;31mNameError\u001b[0m: name 'np' is not defined"
          ]
        }
      ]
    },
    {
      "cell_type": "markdown",
      "source": [
        "## E. Last Model Configuration"
      ],
      "metadata": {
        "id": "CzxEYPitBeWn"
      }
    },
    {
      "cell_type": "code",
      "source": [
        "# Save the model configuration\n",
        "with open('model_config.json', 'w') as f:\n",
        "    json.dump(model.get_config(), f)"
      ],
      "metadata": {
        "id": "nCoB-LYf-cUW"
      },
      "execution_count": null,
      "outputs": []
    },
    {
      "cell_type": "markdown",
      "source": [
        "## F. Download to local machine"
      ],
      "metadata": {
        "id": "gxzfcgFE-PR_"
      }
    },
    {
      "cell_type": "code",
      "source": [
        "files.download('/content/best_model.h5')"
      ],
      "metadata": {
        "colab": {
          "base_uri": "https://localhost:8080/",
          "height": 17
        },
        "id": "zJ_HiQwq7Z5C",
        "outputId": "91dbe217-3449-4575-c3cb-ddde68f06000"
      },
      "execution_count": null,
      "outputs": [
        {
          "output_type": "display_data",
          "data": {
            "text/plain": [
              "<IPython.core.display.Javascript object>"
            ],
            "application/javascript": [
              "\n",
              "    async function download(id, filename, size) {\n",
              "      if (!google.colab.kernel.accessAllowed) {\n",
              "        return;\n",
              "      }\n",
              "      const div = document.createElement('div');\n",
              "      const label = document.createElement('label');\n",
              "      label.textContent = `Downloading \"${filename}\": `;\n",
              "      div.appendChild(label);\n",
              "      const progress = document.createElement('progress');\n",
              "      progress.max = size;\n",
              "      div.appendChild(progress);\n",
              "      document.body.appendChild(div);\n",
              "\n",
              "      const buffers = [];\n",
              "      let downloaded = 0;\n",
              "\n",
              "      const channel = await google.colab.kernel.comms.open(id);\n",
              "      // Send a message to notify the kernel that we're ready.\n",
              "      channel.send({})\n",
              "\n",
              "      for await (const message of channel.messages) {\n",
              "        // Send a message to notify the kernel that we're ready.\n",
              "        channel.send({})\n",
              "        if (message.buffers) {\n",
              "          for (const buffer of message.buffers) {\n",
              "            buffers.push(buffer);\n",
              "            downloaded += buffer.byteLength;\n",
              "            progress.value = downloaded;\n",
              "          }\n",
              "        }\n",
              "      }\n",
              "      const blob = new Blob(buffers, {type: 'application/binary'});\n",
              "      const a = document.createElement('a');\n",
              "      a.href = window.URL.createObjectURL(blob);\n",
              "      a.download = filename;\n",
              "      div.appendChild(a);\n",
              "      a.click();\n",
              "      div.remove();\n",
              "    }\n",
              "  "
            ]
          },
          "metadata": {}
        },
        {
          "output_type": "display_data",
          "data": {
            "text/plain": [
              "<IPython.core.display.Javascript object>"
            ],
            "application/javascript": [
              "download(\"download_546f9fea-1019-4bde-a429-9e487562e2e7\", \"best_model.h5\", 498080376)"
            ]
          },
          "metadata": {}
        }
      ]
    },
    {
      "cell_type": "code",
      "source": [
        "files.download('/content/last_model.h5')"
      ],
      "metadata": {
        "colab": {
          "base_uri": "https://localhost:8080/",
          "height": 17
        },
        "id": "D-HP7Zlp8j9E",
        "outputId": "354ed672-9b46-4267-b913-f203e16ca6a4"
      },
      "execution_count": null,
      "outputs": [
        {
          "output_type": "display_data",
          "data": {
            "text/plain": [
              "<IPython.core.display.Javascript object>"
            ],
            "application/javascript": [
              "\n",
              "    async function download(id, filename, size) {\n",
              "      if (!google.colab.kernel.accessAllowed) {\n",
              "        return;\n",
              "      }\n",
              "      const div = document.createElement('div');\n",
              "      const label = document.createElement('label');\n",
              "      label.textContent = `Downloading \"${filename}\": `;\n",
              "      div.appendChild(label);\n",
              "      const progress = document.createElement('progress');\n",
              "      progress.max = size;\n",
              "      div.appendChild(progress);\n",
              "      document.body.appendChild(div);\n",
              "\n",
              "      const buffers = [];\n",
              "      let downloaded = 0;\n",
              "\n",
              "      const channel = await google.colab.kernel.comms.open(id);\n",
              "      // Send a message to notify the kernel that we're ready.\n",
              "      channel.send({})\n",
              "\n",
              "      for await (const message of channel.messages) {\n",
              "        // Send a message to notify the kernel that we're ready.\n",
              "        channel.send({})\n",
              "        if (message.buffers) {\n",
              "          for (const buffer of message.buffers) {\n",
              "            buffers.push(buffer);\n",
              "            downloaded += buffer.byteLength;\n",
              "            progress.value = downloaded;\n",
              "          }\n",
              "        }\n",
              "      }\n",
              "      const blob = new Blob(buffers, {type: 'application/binary'});\n",
              "      const a = document.createElement('a');\n",
              "      a.href = window.URL.createObjectURL(blob);\n",
              "      a.download = filename;\n",
              "      div.appendChild(a);\n",
              "      a.click();\n",
              "      div.remove();\n",
              "    }\n",
              "  "
            ]
          },
          "metadata": {}
        },
        {
          "output_type": "display_data",
          "data": {
            "text/plain": [
              "<IPython.core.display.Javascript object>"
            ],
            "application/javascript": [
              "download(\"download_d82f9569-836f-4ba5-b662-9faeeef063f5\", \"last_model.h5\", 498080376)"
            ]
          },
          "metadata": {}
        }
      ]
    },
    {
      "cell_type": "code",
      "source": [
        "!zip -r /content/tokenizer_folder.zip /content/tokenizer\n",
        "\n",
        "files.download('/content/tokenizer_folder.zip')"
      ],
      "metadata": {
        "colab": {
          "base_uri": "https://localhost:8080/",
          "height": 104
        },
        "id": "hYIAD3RQGajt",
        "outputId": "519ffc62-6893-478b-8e25-71de083fde30"
      },
      "execution_count": null,
      "outputs": [
        {
          "output_type": "stream",
          "name": "stdout",
          "text": [
            "  adding: content/tokenizer/ (stored 0%)\n",
            "  adding: content/tokenizer/tokenizer.json (deflated 71%)\n",
            "  adding: content/tokenizer/tokenizer_config.json (deflated 74%)\n",
            "  adding: content/tokenizer/special_tokens_map.json (deflated 42%)\n",
            "  adding: content/tokenizer/vocab.txt (deflated 53%)\n"
          ]
        },
        {
          "output_type": "display_data",
          "data": {
            "text/plain": [
              "<IPython.core.display.Javascript object>"
            ],
            "application/javascript": [
              "\n",
              "    async function download(id, filename, size) {\n",
              "      if (!google.colab.kernel.accessAllowed) {\n",
              "        return;\n",
              "      }\n",
              "      const div = document.createElement('div');\n",
              "      const label = document.createElement('label');\n",
              "      label.textContent = `Downloading \"${filename}\": `;\n",
              "      div.appendChild(label);\n",
              "      const progress = document.createElement('progress');\n",
              "      progress.max = size;\n",
              "      div.appendChild(progress);\n",
              "      document.body.appendChild(div);\n",
              "\n",
              "      const buffers = [];\n",
              "      let downloaded = 0;\n",
              "\n",
              "      const channel = await google.colab.kernel.comms.open(id);\n",
              "      // Send a message to notify the kernel that we're ready.\n",
              "      channel.send({})\n",
              "\n",
              "      for await (const message of channel.messages) {\n",
              "        // Send a message to notify the kernel that we're ready.\n",
              "        channel.send({})\n",
              "        if (message.buffers) {\n",
              "          for (const buffer of message.buffers) {\n",
              "            buffers.push(buffer);\n",
              "            downloaded += buffer.byteLength;\n",
              "            progress.value = downloaded;\n",
              "          }\n",
              "        }\n",
              "      }\n",
              "      const blob = new Blob(buffers, {type: 'application/binary'});\n",
              "      const a = document.createElement('a');\n",
              "      a.href = window.URL.createObjectURL(blob);\n",
              "      a.download = filename;\n",
              "      div.appendChild(a);\n",
              "      a.click();\n",
              "      div.remove();\n",
              "    }\n",
              "  "
            ]
          },
          "metadata": {}
        },
        {
          "output_type": "display_data",
          "data": {
            "text/plain": [
              "<IPython.core.display.Javascript object>"
            ],
            "application/javascript": [
              "download(\"download_46128cf2-97d7-4f0c-ad6a-218c05c8ac28\", \"tokenizer_folder.zip\", 313833)"
            ]
          },
          "metadata": {}
        }
      ]
    },
    {
      "cell_type": "code",
      "source": [
        "# Download all files to your local machine\n",
        "files.download('training_history.pkl')\n",
        "files.download('class_weights.npy')\n",
        "files.download('model_config.json')"
      ],
      "metadata": {
        "colab": {
          "base_uri": "https://localhost:8080/",
          "height": 17
        },
        "id": "LZgftxxN-kzH",
        "outputId": "7e75c5c1-fa3b-4783-ed08-bb88c739ca88"
      },
      "execution_count": null,
      "outputs": [
        {
          "output_type": "display_data",
          "data": {
            "text/plain": [
              "<IPython.core.display.Javascript object>"
            ],
            "application/javascript": [
              "\n",
              "    async function download(id, filename, size) {\n",
              "      if (!google.colab.kernel.accessAllowed) {\n",
              "        return;\n",
              "      }\n",
              "      const div = document.createElement('div');\n",
              "      const label = document.createElement('label');\n",
              "      label.textContent = `Downloading \"${filename}\": `;\n",
              "      div.appendChild(label);\n",
              "      const progress = document.createElement('progress');\n",
              "      progress.max = size;\n",
              "      div.appendChild(progress);\n",
              "      document.body.appendChild(div);\n",
              "\n",
              "      const buffers = [];\n",
              "      let downloaded = 0;\n",
              "\n",
              "      const channel = await google.colab.kernel.comms.open(id);\n",
              "      // Send a message to notify the kernel that we're ready.\n",
              "      channel.send({})\n",
              "\n",
              "      for await (const message of channel.messages) {\n",
              "        // Send a message to notify the kernel that we're ready.\n",
              "        channel.send({})\n",
              "        if (message.buffers) {\n",
              "          for (const buffer of message.buffers) {\n",
              "            buffers.push(buffer);\n",
              "            downloaded += buffer.byteLength;\n",
              "            progress.value = downloaded;\n",
              "          }\n",
              "        }\n",
              "      }\n",
              "      const blob = new Blob(buffers, {type: 'application/binary'});\n",
              "      const a = document.createElement('a');\n",
              "      a.href = window.URL.createObjectURL(blob);\n",
              "      a.download = filename;\n",
              "      div.appendChild(a);\n",
              "      a.click();\n",
              "      div.remove();\n",
              "    }\n",
              "  "
            ]
          },
          "metadata": {}
        },
        {
          "output_type": "display_data",
          "data": {
            "text/plain": [
              "<IPython.core.display.Javascript object>"
            ],
            "application/javascript": [
              "download(\"download_e6bd0b93-cc1f-490c-9583-362f09209e02\", \"training_history.pkl\", 1343)"
            ]
          },
          "metadata": {}
        },
        {
          "output_type": "display_data",
          "data": {
            "text/plain": [
              "<IPython.core.display.Javascript object>"
            ],
            "application/javascript": [
              "\n",
              "    async function download(id, filename, size) {\n",
              "      if (!google.colab.kernel.accessAllowed) {\n",
              "        return;\n",
              "      }\n",
              "      const div = document.createElement('div');\n",
              "      const label = document.createElement('label');\n",
              "      label.textContent = `Downloading \"${filename}\": `;\n",
              "      div.appendChild(label);\n",
              "      const progress = document.createElement('progress');\n",
              "      progress.max = size;\n",
              "      div.appendChild(progress);\n",
              "      document.body.appendChild(div);\n",
              "\n",
              "      const buffers = [];\n",
              "      let downloaded = 0;\n",
              "\n",
              "      const channel = await google.colab.kernel.comms.open(id);\n",
              "      // Send a message to notify the kernel that we're ready.\n",
              "      channel.send({})\n",
              "\n",
              "      for await (const message of channel.messages) {\n",
              "        // Send a message to notify the kernel that we're ready.\n",
              "        channel.send({})\n",
              "        if (message.buffers) {\n",
              "          for (const buffer of message.buffers) {\n",
              "            buffers.push(buffer);\n",
              "            downloaded += buffer.byteLength;\n",
              "            progress.value = downloaded;\n",
              "          }\n",
              "        }\n",
              "      }\n",
              "      const blob = new Blob(buffers, {type: 'application/binary'});\n",
              "      const a = document.createElement('a');\n",
              "      a.href = window.URL.createObjectURL(blob);\n",
              "      a.download = filename;\n",
              "      div.appendChild(a);\n",
              "      a.click();\n",
              "      div.remove();\n",
              "    }\n",
              "  "
            ]
          },
          "metadata": {}
        },
        {
          "output_type": "display_data",
          "data": {
            "text/plain": [
              "<IPython.core.display.Javascript object>"
            ],
            "application/javascript": [
              "download(\"download_0ab4e55d-1ac8-4281-9e20-61ae9373eac9\", \"class_weights.npy\", 431)"
            ]
          },
          "metadata": {}
        },
        {
          "output_type": "display_data",
          "data": {
            "text/plain": [
              "<IPython.core.display.Javascript object>"
            ],
            "application/javascript": [
              "\n",
              "    async function download(id, filename, size) {\n",
              "      if (!google.colab.kernel.accessAllowed) {\n",
              "        return;\n",
              "      }\n",
              "      const div = document.createElement('div');\n",
              "      const label = document.createElement('label');\n",
              "      label.textContent = `Downloading \"${filename}\": `;\n",
              "      div.appendChild(label);\n",
              "      const progress = document.createElement('progress');\n",
              "      progress.max = size;\n",
              "      div.appendChild(progress);\n",
              "      document.body.appendChild(div);\n",
              "\n",
              "      const buffers = [];\n",
              "      let downloaded = 0;\n",
              "\n",
              "      const channel = await google.colab.kernel.comms.open(id);\n",
              "      // Send a message to notify the kernel that we're ready.\n",
              "      channel.send({})\n",
              "\n",
              "      for await (const message of channel.messages) {\n",
              "        // Send a message to notify the kernel that we're ready.\n",
              "        channel.send({})\n",
              "        if (message.buffers) {\n",
              "          for (const buffer of message.buffers) {\n",
              "            buffers.push(buffer);\n",
              "            downloaded += buffer.byteLength;\n",
              "            progress.value = downloaded;\n",
              "          }\n",
              "        }\n",
              "      }\n",
              "      const blob = new Blob(buffers, {type: 'application/binary'});\n",
              "      const a = document.createElement('a');\n",
              "      a.href = window.URL.createObjectURL(blob);\n",
              "      a.download = filename;\n",
              "      div.appendChild(a);\n",
              "      a.click();\n",
              "      div.remove();\n",
              "    }\n",
              "  "
            ]
          },
          "metadata": {}
        },
        {
          "output_type": "display_data",
          "data": {
            "text/plain": [
              "<IPython.core.display.Javascript object>"
            ],
            "application/javascript": [
              "download(\"download_0d7a5ec2-60a1-4101-8b6c-a7c3d1bd2e32\", \"model_config.json\", 3976)"
            ]
          },
          "metadata": {}
        }
      ]
    },
    {
      "cell_type": "markdown",
      "source": [
        "## G. Model Loading"
      ],
      "metadata": {
        "id": "GBQAbXCIv7bz"
      }
    },
    {
      "cell_type": "markdown",
      "source": [
        "### G.I. Model"
      ],
      "metadata": {
        "id": "xfYFGJnemi35"
      }
    },
    {
      "cell_type": "code",
      "source": [
        "# Register TFBertModel, BertLayer, PoolerLayer, and F1Score as custom objects\n",
        "custom_objects = {\n",
        "    'TFBertModel': TFBertModel,\n",
        "    'BertLayer': BertLayer,  # Replace with the actual custom layer class if needed\n",
        "    'PoolerLayer': PoolerLayer,  # Replace with the actual custom layer class if needed\n",
        "    'F1Score': F1Score  # Replace with your custom metric function\n",
        "}\n",
        "\n",
        "# Load the model with custom objects\n",
        "model = load_model('/content/best_model.h5', custom_objects=custom_objects)"
      ],
      "metadata": {
        "colab": {
          "base_uri": "https://localhost:8080/"
        },
        "id": "UFJtxlvhB0xK",
        "outputId": "96bfafa1-95e1-4602-f34b-e57ae1cf9b80"
      },
      "execution_count": 19,
      "outputs": [
        {
          "output_type": "stream",
          "name": "stderr",
          "text": [
            "WARNING:tensorflow:Error in loading the saved optimizer state. As a result, your model is starting with a freshly initialized optimizer.\n"
          ]
        }
      ]
    },
    {
      "cell_type": "code",
      "source": [
        "# Recreate the AdamW optimizer\n",
        "optimizer = AdamW(learning_rate=2e-5, weight_decay=1e-5)\n",
        "\n",
        "# Recompile the model with the AdamW optimizer\n",
        "model.compile(optimizer=optimizer, loss='categorical_crossentropy', metrics=[F1Score()])"
      ],
      "metadata": {
        "id": "Dk8JyjP5DeYu"
      },
      "execution_count": 27,
      "outputs": []
    },
    {
      "cell_type": "markdown",
      "source": [
        "### G.II. Training History"
      ],
      "metadata": {
        "id": "MDQuHkCrDlB9"
      }
    },
    {
      "cell_type": "code",
      "source": [
        "# Load the training history from the file\n",
        "with open('/content/training_history.pkl', 'rb') as f:\n",
        "    history = pickle.load(f)"
      ],
      "metadata": {
        "id": "6RuPFYe2DmsY"
      },
      "execution_count": 23,
      "outputs": []
    },
    {
      "cell_type": "markdown",
      "metadata": {
        "id": "cuxyulxcB_F1"
      },
      "source": [
        "# VIII. Model Evaluation"
      ]
    },
    {
      "cell_type": "markdown",
      "source": [
        "## A. Training History Evaluation"
      ],
      "metadata": {
        "id": "zEFF96CuH5I-"
      }
    },
    {
      "cell_type": "code",
      "source": [
        "# Plot training & validation loss values\n",
        "plt.plot(history['loss'])\n",
        "plt.plot(history['val_loss'])\n",
        "plt.title('Model loss')\n",
        "plt.ylabel('Loss')\n",
        "plt.xlabel('Epoch')\n",
        "plt.legend(['Train', 'Validation'], loc='upper left')\n",
        "plt.show()\n",
        "\n",
        "# Plot training & validation recall values\n",
        "plt.plot(history['f1_score'])\n",
        "plt.plot(history['val_f1_score'])\n",
        "plt.title('Model F1-Score')\n",
        "plt.ylabel('F1-Score')\n",
        "plt.xlabel('Epoch')\n",
        "plt.legend(['Train', 'Validation'], loc='upper left')\n",
        "plt.show()\n"
      ],
      "metadata": {
        "id": "Kfj-3DIV84QO",
        "colab": {
          "base_uri": "https://localhost:8080/",
          "height": 927
        },
        "outputId": "20286323-fdac-49a3-b817-a5a9556babc3"
      },
      "execution_count": 26,
      "outputs": [
        {
          "output_type": "display_data",
          "data": {
            "text/plain": [
              "<Figure size 640x480 with 1 Axes>"
            ],
            "image/png": "[encoded data removed]"
          },
          "metadata": {}
        },
        {
          "output_type": "display_data",
          "data": {
            "text/plain": [
              "<Figure size 640x480 with 1 Axes>"
            ],
            "image/png": "[encoded data removed]"
          },
          "metadata": {}
        }
      ]
    },
    {
      "cell_type": "markdown",
      "source": [
        "Based on the training output, the model appears to be making good progress, but it may be nearing its performance limit. <br>\n",
        "\n",
        "Here are key observations:\n",
        "\n",
        "* **Training Loss and F1-Score**: The loss gradually decreased from 1.2008 at epoch 1 to 0.9090 at epoch 20. The F1 score improved as well, reaching a peak of 0.7726 at epoch 20, which is a good indication of the model's learning capacity.\n",
        "* **Validation Loss and F1-Score**: The validation loss improved initially, reaching its best value at 0.56845 at epoch 20, and the validation F1 score also improved steadily, reaching a peak of 0.8566 at epoch 20. This suggests the model generalizes well to the validation data.\n",
        "* **Early Stopping**: Early stopping was triggered, and the best model was selected at epoch 20, as further epochs did not lead to any significant improvement in validation loss or F1 score. <br>\n",
        "\n",
        "**Insight** <br>\n",
        "The model is a **good fit**. It exhibits steady improvement in both training and validation performance up until epoch 20. The early stopping indicates that the model has likely reached a point where further training would lead to diminishing returns or overfitting.\n",
        "Generalization: The model's validation performance (F1 score and loss) is strong, suggesting good generalization to unseen data."
      ],
      "metadata": {
        "id": "Tonp7FGqGm_d"
      }
    },
    {
      "cell_type": "markdown",
      "source": [
        "## B. Confusion Matrix"
      ],
      "metadata": {
        "id": "5yBC_sY-Z3hI"
      }
    },
    {
      "cell_type": "code",
      "source": [
        "# Step 1: Get model predictions\n",
        "# Predict on the test data\n",
        "predictions = model.predict(test_data_tf)\n",
        "\n",
        "# Step 2: Convert predictions from one-hot encoding to label indices\n",
        "predicted_labels = np.argmax(predictions, axis=-1)\n",
        "true_labels = np.argmax(test_labels, axis=-1)\n",
        "\n",
        "# Step 3: Compute the confusion matrix\n",
        "conf_matrix = confusion_matrix(true_labels, predicted_labels)\n",
        "\n",
        "# Step 4: Plot the confusion matrix\n",
        "plt.figure(figsize=(8, 6))\n",
        "sns.heatmap(conf_matrix, annot=True, fmt='d', cmap='Blues', xticklabels=['Negative', 'Neutral', 'Positive'], yticklabels=['Negative', 'Neutral', 'Positive'])\n",
        "plt.xlabel('Predicted Labels')\n",
        "plt.ylabel('True Labels')\n",
        "plt.title('Confusion Matrix')\n",
        "plt.show()\n"
      ],
      "metadata": {
        "colab": {
          "base_uri": "https://localhost:8080/",
          "height": 581
        },
        "id": "sy-ccpYBZ-32",
        "outputId": "0c65c27d-7c00-41f1-e6b2-89272c13022d"
      },
      "execution_count": 72,
      "outputs": [
        {
          "output_type": "stream",
          "name": "stdout",
          "text": [
            "54/54 [==============================] - 133s 2s/step\n"
          ]
        },
        {
          "output_type": "display_data",
          "data": {
            "text/plain": [
              "<Figure size 800x600 with 2 Axes>"
            ],
            "image/png": "[encoded data removed]"
          },
          "metadata": {}
        }
      ]
    },
    {
      "cell_type": "markdown",
      "source": [
        "**Key Metrics**\n",
        "\n",
        "- **True Positives (TP)**:  \n",
        "  Correctly predicted positive class: 1191\n",
        "\n",
        "- **True Negatives (TN)**:  \n",
        "  Correctly predicted negative class: 193\n",
        "\n",
        "- **False Positives (FP)**:  \n",
        "  Incorrectly predicted positive class: 62\n",
        "\n",
        "- **False Negatives (FN)**:  \n",
        "  Incorrectly predicted negative class: 30\n",
        "\n",
        "**Class Metrics**\n",
        "\n",
        "- **Recall for Positive Class**:  \n",
        "  $$\n",
        "  \\text{Recall}_{\\text{Positive}} = \\frac{TP}{TP + FN} = \\frac{1191}{1191 + 30} = 0.975\n",
        "  $$\n",
        "\n",
        "- **Precision for Positive Class**:  \n",
        "  $$\n",
        "  \\text{Precision}_{\\text{Positive}} = \\frac{TP}{TP + FP} = \\frac{1191}{1191 + 62} = 0.950\n",
        "  $$\n",
        "\n",
        "- **Recall for Negative Class**:  \n",
        "  $$\n",
        "  \\text{Recall}_{\\text{Negative}} = \\frac{TN}{TN + FP} = \\frac{193}{193 + 62} = 0.757\n",
        "  $$\n",
        "\n",
        "- **Precision for Negative Class**:  \n",
        "  $$\n",
        "  \\text{Precision}_{\\text{Negative}} = \\frac{TN}{TN + FN} = \\frac{193}{193 + 30} = 0.865\n",
        "  $$\n",
        "\n",
        "**F1-Score**\n",
        "\n",
        "- **F1-Score for Positive Class**:  \n",
        "  $$\n",
        "  F1_{\\text{Positive}} = 2 \\times \\frac{\\text{Precision}_{\\text{Positive}} \\times \\text{Recall}_{\\text{Positive}}}{\\text{Precision}_{\\text{Positive}} + \\text{Recall}_{\\text{Positive}}} = 2 \\times \\frac{0.950 \\times 0.975}{0.950 + 0.975} = 0.962\n",
        "  $$\n",
        "\n",
        "- **F1-Score for Negative Class**:  \n",
        "  $$\n",
        "  F1_{\\text{Negative}} = 2 \\times \\frac{\\text{Precision}_{\\text{Negative}} \\times \\text{Recall}_{\\text{Negative}}}{\\text{Precision}_{\\text{Negative}} + \\text{Recall}_{\\text{Negative}}} = 2 \\times \\frac{0.865 \\times 0.757}{0.865 + 0.757} = 0.807\n",
        "  $$\n",
        "\n",
        "**Insight** <br>\n",
        "\n",
        "Based on the confusion matrix and calculated metrics, the model demonstrates excellent performance for predicting the **positive class** with a high recall of 0.975 and precision of 0.950, leading to an F1-score of 0.962. However, the **negative class** shows a lower recall of 0.757 and precision of 0.865, resulting in an F1-score of 0.807. This suggests that while the model is strong in predicting **positive outcomes**, there is room for improvement in handling **negative cases**, which could be addressed through strategies such as rebalancing the data or further optimization of the model. <br>\n",
        "\n",
        "In the confusion matrix, the **negative class** strictly refers to the **Negative sentiment**. The **Neutral class** is a separate category. The recall and precision metrics for the **negative class** are calculated based on the **Negative** sentiment instances only, and do not include **Neutral** sentiment instances. Thus, the **Negative class** refers solely to **Negative sentiment**, while **Neutral** sentiment is handled independently."
      ],
      "metadata": {
        "id": "tlmHmJYlbOAT"
      }
    },
    {
      "cell_type": "markdown",
      "source": [
        "## C. ROC AUC"
      ],
      "metadata": {
        "id": "h4H6cd30H84U"
      }
    },
    {
      "cell_type": "code",
      "source": [
        "# Predict probabilities on the test set\n",
        "test_pred_probs = model.predict(test_data_tf)\n",
        "\n",
        "# Ensure that probabilities are in the shape (n_samples, n_classes)\n",
        "# Compute ROC AUC with balanced average for multi-class classification\n",
        "roc_auc = roc_auc_score(test_labels, test_pred_probs, average='weighted', multi_class='ovr')\n",
        "\n",
        "print(f\"Balanced ROC AUC (Weighted): {roc_auc}\")\n"
      ],
      "metadata": {
        "colab": {
          "base_uri": "https://localhost:8080/"
        },
        "id": "Zm-huQe2H-yK",
        "outputId": "93592f0b-d384-4f3d-de32-00c235fc089c"
      },
      "execution_count": 50,
      "outputs": [
        {
          "output_type": "stream",
          "name": "stdout",
          "text": [
            "54/54 [==============================] - 125s 2s/step\n",
            "Balanced ROC AUC (Weighted): 0.9406855179126441\n"
          ]
        }
      ]
    },
    {
      "cell_type": "markdown",
      "source": [
        "**Insight:**\n",
        "\n",
        "The model demonstrates strong performance with a **Balanced ROC AUC (Weighted)** score of **0.9407**. This indicates that the model is highly effective at distinguishing between the different sentiment classes (Negative, Neutral, and Positive), even with class imbalance. A score above 0.9 typically suggests excellent performance in terms of classification ability across all classes, balancing the performance for both major and minor classes.\n",
        "\n",
        "Given the **balanced** nature of the ROC AUC, it shows that the model is not biased toward any particular class, indicating good generalization and robust classification for all sentiment categories.\n"
      ],
      "metadata": {
        "id": "5FOwKibtjvQm"
      }
    },
    {
      "cell_type": "markdown",
      "source": [
        "## D. Cohen's Kappa Score"
      ],
      "metadata": {
        "id": "of6NaasBMxWb"
      }
    },
    {
      "cell_type": "code",
      "source": [
        "# Prepare lists to store true labels and predicted labels\n",
        "true_labels = []\n",
        "predicted_labels = []\n",
        "\n",
        "# Iterate through the TensorFlow dataset to collect true labels and predictions\n",
        "for batch in test_data_tf:\n",
        "    inputs, labels = batch\n",
        "    input_ids = inputs['input_ids']\n",
        "    attention_mask = inputs['attention_mask']\n",
        "\n",
        "    # Make predictions for the current batch\n",
        "    batch_pred_probs = model.predict({\n",
        "        'input_ids': input_ids,\n",
        "        'attention_mask': attention_mask\n",
        "    })\n",
        "\n",
        "    # Convert the predicted probabilities to predicted class labels\n",
        "    batch_pred_labels = np.argmax(batch_pred_probs, axis=-1)\n",
        "\n",
        "    # Append true and predicted labels to the lists\n",
        "    true_labels.extend(np.argmax(labels, axis=-1))  # Assuming the labels are one-hot encoded\n",
        "    predicted_labels.extend(batch_pred_labels)\n",
        "\n",
        "# Convert lists to numpy arrays\n",
        "true_labels = np.array(true_labels)\n",
        "predicted_labels = np.array(predicted_labels)\n",
        "\n",
        "# Compute Cohen's Kappa score for multi-class classification\n",
        "kappa_score = cohen_kappa_score(true_labels, predicted_labels)\n",
        "\n",
        "print(f\"Cohen's Kappa Score: {kappa_score}\")\n"
      ],
      "metadata": {
        "colab": {
          "base_uri": "https://localhost:8080/"
        },
        "id": "KBjH85eGMzP7",
        "outputId": "c5fbfc60-66f6-4629-83a3-120e602e2c5a"
      },
      "execution_count": 55,
      "outputs": [
        {
          "output_type": "stream",
          "name": "stdout",
          "text": [
            "1/1 [==============================] - 5s 5s/step\n",
            "1/1 [==============================] - 3s 3s/step\n",
            "1/1 [==============================] - 2s 2s/step\n",
            "1/1 [==============================] - 2s 2s/step\n",
            "1/1 [==============================] - 2s 2s/step\n",
            "1/1 [==============================] - 3s 3s/step\n",
            "1/1 [==============================] - 2s 2s/step\n",
            "1/1 [==============================] - 2s 2s/step\n",
            "1/1 [==============================] - 2s 2s/step\n",
            "1/1 [==============================] - 2s 2s/step\n",
            "1/1 [==============================] - 3s 3s/step\n",
            "1/1 [==============================] - 2s 2s/step\n",
            "1/1 [==============================] - 2s 2s/step\n",
            "1/1 [==============================] - 2s 2s/step\n",
            "1/1 [==============================] - 2s 2s/step\n",
            "1/1 [==============================] - 2s 2s/step\n",
            "1/1 [==============================] - 3s 3s/step\n",
            "1/1 [==============================] - 2s 2s/step\n",
            "1/1 [==============================] - 2s 2s/step\n",
            "1/1 [==============================] - 2s 2s/step\n",
            "1/1 [==============================] - 2s 2s/step\n",
            "1/1 [==============================] - 3s 3s/step\n",
            "1/1 [==============================] - 2s 2s/step\n",
            "1/1 [==============================] - 2s 2s/step\n",
            "1/1 [==============================] - 2s 2s/step\n",
            "1/1 [==============================] - 2s 2s/step\n",
            "1/1 [==============================] - 3s 3s/step\n",
            "1/1 [==============================] - 3s 3s/step\n",
            "1/1 [==============================] - 2s 2s/step\n",
            "1/1 [==============================] - 2s 2s/step\n",
            "1/1 [==============================] - 2s 2s/step\n",
            "1/1 [==============================] - 2s 2s/step\n",
            "1/1 [==============================] - 3s 3s/step\n",
            "1/1 [==============================] - 2s 2s/step\n",
            "1/1 [==============================] - 2s 2s/step\n",
            "1/1 [==============================] - 2s 2s/step\n",
            "1/1 [==============================] - 2s 2s/step\n",
            "1/1 [==============================] - 3s 3s/step\n",
            "1/1 [==============================] - 2s 2s/step\n",
            "1/1 [==============================] - 2s 2s/step\n",
            "1/1 [==============================] - 2s 2s/step\n",
            "1/1 [==============================] - 2s 2s/step\n",
            "1/1 [==============================] - 3s 3s/step\n",
            "1/1 [==============================] - 2s 2s/step\n",
            "1/1 [==============================] - 2s 2s/step\n",
            "1/1 [==============================] - 2s 2s/step\n",
            "1/1 [==============================] - 2s 2s/step\n",
            "1/1 [==============================] - 3s 3s/step\n",
            "1/1 [==============================] - 3s 3s/step\n",
            "1/1 [==============================] - 2s 2s/step\n",
            "1/1 [==============================] - 2s 2s/step\n",
            "1/1 [==============================] - 2s 2s/step\n",
            "1/1 [==============================] - 2s 2s/step\n",
            "1/1 [==============================] - 5s 5s/step\n",
            "Cohen's Kappa Score: 0.5563344752026577\n"
          ]
        }
      ]
    },
    {
      "cell_type": "markdown",
      "source": [
        "The Cohen's Kappa score ranges between -1 and 1, where:\n",
        "\n",
        "- **1** indicates perfect agreement between the true labels and predicted labels.\n",
        "- **0** indicates no agreement beyond what would be expected by chance (i.e., random guessing).\n",
        "- **Negative values** indicate less agreement than would be expected by chance, which usually implies systematic disagreement between the predictions and true labels.\n",
        "\n",
        "In this case, the score of **0.556** suggests moderate agreement, meaning the model performs better than random chance but still has considerable room for improvement."
      ],
      "metadata": {
        "id": "c-TgSU0ddcXW"
      }
    },
    {
      "cell_type": "markdown",
      "metadata": {
        "id": "eqDz8QjECIpq"
      },
      "source": [
        "# IX. Model Inference"
      ]
    },
    {
      "cell_type": "code",
      "source": [
        "# Function to preprocess and tokenize multiple reviews\n",
        "def preprocess_and_tokenize_reviews(reviews, tokenizer, stop_words, stemmer, max_length=128):\n",
        "    # Preprocess each review\n",
        "    cleaned_reviews = [preprocess_text(review, stop_words, stemmer) for review in reviews]\n",
        "\n",
        "    # Tokenize the cleaned reviews\n",
        "    tokenized_reviews = tokenizer(cleaned_reviews, padding='max_length', truncation=True, max_length=max_length, return_tensors='tf')\n",
        "\n",
        "    return tokenized_reviews"
      ],
      "metadata": {
        "id": "9dyFs-66RCGK"
      },
      "execution_count": 60,
      "outputs": []
    },
    {
      "cell_type": "code",
      "source": [
        "# Example list of multiple reviews\n",
        "reviews = [\n",
        "    \"Aplikasi Brimo sangat membantu untuk transaksi cepat dan mudah.\",\n",
        "    \"Aplikasi ini biasa aja gak ada spesialnya bro dibandingkan mobile app laen.\",\n",
        "    \"Layanan sangat parah, aplikasi sering mengalami bug.\",\n",
        "    \"Aplikasi ini sangat canggih, saya tunggu seabad baru bisa buka\",\n",
        "    \"Setelah memakai aplikasi ini, saya jadi super sabar, bahkan bisa menunggu selama berjam-jam tanpa merasa marah 😏\",\n",
        "    \"Layanan Brimo sangat bagus dan user-friendly. Sangat saya rekomendasikan.\",\n",
        "    \"Serius, aplikasi Brimo tuh kayak roller coaster, kadang cepet, kadang lambat, tapi kalau udah nyangkut, rasanya kaya hidup lo stuck di traffic Jakarta, udah deh nggak mau pake lagi!\",\n",
        "    \"Aplikasi ini seperti pelari tercepat di dunia, cuma sayangnya, dia lari di tempat.\",\n",
        "    \"Aplikasi ini adalah pelita yang menyinari gelapnya dunia, sayangnya, pelita itu mati setiap dua menit sekali\",\n",
        "    \"Akoehh ras@ aplikasie ini cucok oentoek @nak moedA\"\n",
        "]\n",
        "\n",
        "# Preprocess and tokenize reviews\n",
        "tokenized_reviews = preprocess_and_tokenize_reviews(reviews, tokenizer, stop_words, stemmer)\n",
        "\n",
        "# Get the input_ids and attention_mask\n",
        "input_ids = tokenized_reviews['input_ids']\n",
        "attention_masks = tokenized_reviews['attention_mask']\n",
        "\n",
        "# Predict sentiment for each review\n",
        "predictions = model.predict({'input_ids': input_ids, 'attention_mask': attention_masks})\n",
        "\n",
        "# Decode the predictions\n",
        "predicted_labels = np.argmax(predictions, axis=-1)\n",
        "\n",
        "# Map the predicted labels back to sentiment\n",
        "sentiment_map = {0: 'Negative', 1: 'Neutral', 2: 'Positive'}\n",
        "predicted_sentiments = [sentiment_map[label] for label in predicted_labels]\n",
        "\n",
        "# Print results\n",
        "for review, sentiment in zip(reviews, predicted_sentiments):\n",
        "    print(f\"Review: {review}\\nPredicted Sentiment: {sentiment}\\n\")"
      ],
      "metadata": {
        "colab": {
          "base_uri": "https://localhost:8080/"
        },
        "id": "aLlANoZwRxUE",
        "outputId": "89b0c726-2b40-4fcf-c25c-f2e7acdf492b"
      },
      "execution_count": 71,
      "outputs": [
        {
          "output_type": "stream",
          "name": "stdout",
          "text": [
            "1/1 [==============================] - 1s 721ms/step\n",
            "Review: Aplikasi Brimo sangat membantu untuk transaksi cepat dan mudah.\n",
            "Predicted Sentiment: Positive\n",
            "\n",
            "Review: Aplikasi ini biasa aja gak ada spesialnya bro dibandingkan mobile app laen.\n",
            "Predicted Sentiment: Neutral\n",
            "\n",
            "Review: Layanan sangat parah, aplikasi sering mengalami bug.\n",
            "Predicted Sentiment: Negative\n",
            "\n",
            "Review: Aplikasi ini sangat canggih, saya tunggu seabad baru bisa buka\n",
            "Predicted Sentiment: Negative\n",
            "\n",
            "Review: Setelah memakai aplikasi ini, saya jadi super sabar, bahkan bisa menunggu selama berjam-jam tanpa merasa marah 😏\n",
            "Predicted Sentiment: Neutral\n",
            "\n",
            "Review: Layanan Brimo sangat bagus dan user-friendly. Sangat saya rekomendasikan.\n",
            "Predicted Sentiment: Positive\n",
            "\n",
            "Review: Serius, aplikasi Brimo tuh kayak roller coaster, kadang cepet, kadang lambat, tapi kalau udah nyangkut, rasanya kaya hidup lo stuck di traffic Jakarta, udah deh nggak mau pake lagi!\n",
            "Predicted Sentiment: Negative\n",
            "\n",
            "Review: Aplikasi ini seperti pelari tercepat di dunia, cuma sayangnya, dia lari di tempat.\n",
            "Predicted Sentiment: Neutral\n",
            "\n",
            "Review: Aplikasi ini adalah pelita yang menyinari gelapnya dunia, sayangnya, pelita itu mati setiap dua menit sekali\n",
            "Predicted Sentiment: Neutral\n",
            "\n",
            "Review: Akoehh ras@ aplikasie ini cucok oentoek @nak moedA\n",
            "Predicted Sentiment: Negative\n",
            "\n"
          ]
        }
      ]
    },
    {
      "cell_type": "markdown",
      "source": [
        "Based on the testing results with inference data, the model performs fairly well in classifying sentiment into positive, negative, or neutral categories. However, challenges arise when handling sarcasm, figures of speech (like metaphors and hyperboles), and informal \"alay\" language (distorted words in internet slang). Sarcasm, in particular, confuses the model, as it often involves implicit negative sentiment disguised by seemingly positive wording. For example, a phrase like **\"This app is like the fastest runner in the world, except it runs in place\"** is intended to express frustration, but the model might incorrectly classify it as neutral because it contains positive terms. <br>\n",
        "\n",
        "Additionally, hyperbolic expressions such as **\"Aplikasi ini seperti pelita yang menyinari gelapnya dunia, sayangnya, pelita itu mati setiap dua menit sekali\"** (The app is like a light that illuminates the dark world, but sadly, it dies every two minutes) could be misclassified due to the contrast in tone. **\"Alay\"** language, like **\"Akoehh ras@ aplikasie ini cucok oentoek @nak moedA\"**, further complicates sentiment classification due to its deviation from standard language patterns. These challenges suggest that while the model is **accurate** for *straightforward sentiments*, it needs more training on diverse and complex linguistic inputs to improve its ability to handle sarcasm and non-standard language."
      ],
      "metadata": {
        "id": "H_3UBH4pVIsz"
      }
    },
    {
      "cell_type": "markdown",
      "metadata": {
        "id": "6GUqzNkwCEvY"
      },
      "source": [
        "# X. Conclusion"
      ]
    },
    {
      "cell_type": "markdown",
      "source": [
        "In conclusion, the model performs well overall, particularly in predicting **positive sentiment** with high *precision* and *recall*. However, its performance on the **negative class** leaves room for improvement. The **Cohen's Kappa score** of *0.556* indicates moderate agreement, suggesting that the model has potential but still requires optimization for better alignment with true labels. Despite its strengths, challenges arise in handling **sarcasm**, **figures of speech**, and **informal language** like `alay`, which often confuse the model and lead to misclassifications. This indicates that while the model is effective for **straightforward sentiment classification**, further training with more **diverse** and **complex linguistic inputs** is necessary to enhance its accuracy in handling nuanced language.\n"
      ],
      "metadata": {
        "id": "jmq_tA23f5Bi"
      }
    },
    {
      "cell_type": "markdown",
      "metadata": {
        "id": "8vU759qeCQnm"
      },
      "source": [
        "# XI. Further Improvement"
      ]
    },
    {
      "cell_type": "markdown",
      "source": [
        "To further improve the model, several strategies can be implemented:\n",
        "\n",
        "1. **Data Handling & Augmentation**\n",
        "   - **Class Imbalance**: The negative class shows lower performance in terms of recall and precision. Adding more data for the **Negative** and **Neutral** classes can help improve the model's performance. This will support better generalization, especially for these underrepresented classes.\n",
        "   - **Data Augmentation**: Introducing more variability in the dataset for **Negative** and **Neutral** classes by paraphrasing or augmenting data through synthetic text generation can be useful. This will be especially helpful in handling challenging cases such as sarcasm, figurative language, or non-standard expressions.\n",
        "\n",
        "2. **Model Improvements**\n",
        "   - **Hyperparameter Tuning**: Experimenting with different hyperparameters like learning rate, batch size, and optimizer type (e.g., SGD) can help enhance the model's performance.\n",
        "   - **Ensemble Learning**: Combining multiple models (e.g., IndoBERT with an LSTM or CNN) can improve generalization and robustness, which can be beneficial in handling edge cases like sarcasm or ambiguous language.\n",
        "\n",
        "3. **Handling Sarcasm and Figurative Language**\n",
        "   - **Sarcasm Detection**: Since sarcasm confuses the model, incorporating sarcasm-specific features or a separate classifier trained to identify sarcastic statements can help improve performance. Sarcasm detection can aid in correctly classifying seemingly positive but contextually negative statements.\n",
        "   - **Figurative Language**: Training the model on datasets containing **hyperboles**, **metaphors**, and other figures of speech will improve understanding of non-literal language. Alternatively, creating a specialized model or additional feature set to detect and interpret these types of expressions may be helpful.\n",
        "\n",
        "4. **Handling Informal Language (e.g., Alay Language)**\n",
        "   - **Text Preprocessing**: Implementing more sophisticated text preprocessing steps to handle informal and slang language (e.g., \"alay\" language) can be beneficial. Normalization techniques to convert distorted words into their more formal counterparts, using a dictionary of common slang, or specific rules could improve performance.\n",
        "   - **Custom Tokenizer**: Using a custom tokenizer that handles the unique features of informal language, such as abbreviations, emojis, and hashtags, will be crucial, especially in social media sentiment analysis tasks.\n",
        "\n",
        "5. **Evaluation and Metrics**\n",
        "   - **Cross-Validation**: Implementing **k-fold cross-validation** can ensure that the evaluation metrics (such as F1 score, precision, recall) are more robust and representative across various subsets of the dataset.\n",
        "\n",
        "6. **Model Explainability and Interpretation**\n",
        "   - **Model Interpretability**: Using techniques like **SHAP** or **LIME** can help explain model predictions and identify areas where incorrect predictions are being made. This can assist in pinpointing patterns that are misclassified, such as sarcasm or confusing context.\n",
        "   - **Error Analysis**: Conducting a detailed error analysis to identify common failure points or misclassifications will help guide further improvements in data preparation or model architecture.\n",
        "\n",
        "By applying these strategies, accuracy can be enhanced, challenging linguistic features can be better handled, and overall performance on sentiment classification tasks can be improved."
      ],
      "metadata": {
        "id": "cZWMmcA0hnB6"
      }
    }
  ],
  "metadata": {
    "accelerator": "GPU",
    "colab": {
      "gpuType": "T4",
      "machine_shape": "hm",
      "provenance": [],
      "toc_visible": true
    },
    "kernelspec": {
      "display_name": "Python 3",
      "name": "python3"
    },
    "language_info": {
      "codemirror_mode": {
        "name": "ipython",
        "version": 3
      },
      "file_extension": ".py",
      "mimetype": "text/x-python",
      "name": "python",
      "nbconvert_exporter": "python",
      "pygments_lexer": "ipython3",
      "version": "3.9.20"
    },
    "widgets": {
      "application/vnd.jupyter.widget-state+json": {
        "dff4e60840ab4d27abe42171e2512a4b": {
          "model_module": "@jupyter-widgets/controls",
          "model_name": "HBoxModel",
          "model_module_version": "1.5.0",
          "state": {
            "_dom_classes": [],
            "_model_module": "@jupyter-widgets/controls",
            "_model_module_version": "1.5.0",
            "_model_name": "HBoxModel",
            "_view_count": null,
            "_view_module": "@jupyter-widgets/controls",
            "_view_module_version": "1.5.0",
            "_view_name": "HBoxView",
            "box_style": "",
            "children": [
              "IPY_MODEL_a6e62e96e2654f89826ba1dfa25ea75f",
              "IPY_MODEL_d1755d7ff8554db89e1e17d94bece4a2",
              "IPY_MODEL_e2075724b57d41349dc72d5f6c73d823"
            ],
            "layout": "IPY_MODEL_ae3093bdfa944e5b88a030307992d309"
          }
        },
        "a6e62e96e2654f89826ba1dfa25ea75f": {
          "model_module": "@jupyter-widgets/controls",
          "model_name": "HTMLModel",
          "model_module_version": "1.5.0",
          "state": {
            "_dom_classes": [],
            "_model_module": "@jupyter-widgets/controls",
            "_model_module_version": "1.5.0",
            "_model_name": "HTMLModel",
            "_view_count": null,
            "_view_module": "@jupyter-widgets/controls",
            "_view_module_version": "1.5.0",
            "_view_name": "HTMLView",
            "description": "",
            "description_tooltip": null,
            "layout": "IPY_MODEL_6ec847f56f25416fa9baee918288e2d3",
            "placeholder": "​",
            "style": "IPY_MODEL_889024f71ab844dcbe0b5bd706c81538",
            "value": "tokenizer_config.json: 100%"
          }
        },
        "d1755d7ff8554db89e1e17d94bece4a2": {
          "model_module": "@jupyter-widgets/controls",
          "model_name": "FloatProgressModel",
          "model_module_version": "1.5.0",
          "state": {
            "_dom_classes": [],
            "_model_module": "@jupyter-widgets/controls",
            "_model_module_version": "1.5.0",
            "_model_name": "FloatProgressModel",
            "_view_count": null,
            "_view_module": "@jupyter-widgets/controls",
            "_view_module_version": "1.5.0",
            "_view_name": "ProgressView",
            "bar_style": "success",
            "description": "",
            "description_tooltip": null,
            "layout": "IPY_MODEL_f007267e046a42f39e61343de354a826",
            "max": 2,
            "min": 0,
            "orientation": "horizontal",
            "style": "IPY_MODEL_039bb4620a604f7a8cb75e71a1e98711",
            "value": 2
          }
        },
        "e2075724b57d41349dc72d5f6c73d823": {
          "model_module": "@jupyter-widgets/controls",
          "model_name": "HTMLModel",
          "model_module_version": "1.5.0",
          "state": {
            "_dom_classes": [],
            "_model_module": "@jupyter-widgets/controls",
            "_model_module_version": "1.5.0",
            "_model_name": "HTMLModel",
            "_view_count": null,
            "_view_module": "@jupyter-widgets/controls",
            "_view_module_version": "1.5.0",
            "_view_name": "HTMLView",
            "description": "",
            "description_tooltip": null,
            "layout": "IPY_MODEL_97e033c99d0042d98c1ba55dec1f3116",
            "placeholder": "​",
            "style": "IPY_MODEL_9bc6068b33b24b21b4fcce9218452c6a",
            "value": " 2.00/2.00 [00:00&lt;00:00, 180B/s]"
          }
        },
        "ae3093bdfa944e5b88a030307992d309": {
          "model_module": "@jupyter-widgets/base",
          "model_name": "LayoutModel",
          "model_module_version": "1.2.0",
          "state": {
            "_model_module": "@jupyter-widgets/base",
            "_model_module_version": "1.2.0",
            "_model_name": "LayoutModel",
            "_view_count": null,
            "_view_module": "@jupyter-widgets/base",
            "_view_module_version": "1.2.0",
            "_view_name": "LayoutView",
            "align_content": null,
            "align_items": null,
            "align_self": null,
            "border": null,
            "bottom": null,
            "display": null,
            "flex": null,
            "flex_flow": null,
            "grid_area": null,
            "grid_auto_columns": null,
            "grid_auto_flow": null,
            "grid_auto_rows": null,
            "grid_column": null,
            "grid_gap": null,
            "grid_row": null,
            "grid_template_areas": null,
            "grid_template_columns": null,
            "grid_template_rows": null,
            "height": null,
            "justify_content": null,
            "justify_items": null,
            "left": null,
            "margin": null,
            "max_height": null,
            "max_width": null,
            "min_height": null,
            "min_width": null,
            "object_fit": null,
            "object_position": null,
            "order": null,
            "overflow": null,
            "overflow_x": null,
            "overflow_y": null,
            "padding": null,
            "right": null,
            "top": null,
            "visibility": null,
            "width": null
          }
        },
        "6ec847f56f25416fa9baee918288e2d3": {
          "model_module": "@jupyter-widgets/base",
          "model_name": "LayoutModel",
          "model_module_version": "1.2.0",
          "state": {
            "_model_module": "@jupyter-widgets/base",
            "_model_module_version": "1.2.0",
            "_model_name": "LayoutModel",
            "_view_count": null,
            "_view_module": "@jupyter-widgets/base",
            "_view_module_version": "1.2.0",
            "_view_name": "LayoutView",
            "align_content": null,
            "align_items": null,
            "align_self": null,
            "border": null,
            "bottom": null,
            "display": null,
            "flex": null,
            "flex_flow": null,
            "grid_area": null,
            "grid_auto_columns": null,
            "grid_auto_flow": null,
            "grid_auto_rows": null,
            "grid_column": null,
            "grid_gap": null,
            "grid_row": null,
            "grid_template_areas": null,
            "grid_template_columns": null,
            "grid_template_rows": null,
            "height": null,
            "justify_content": null,
            "justify_items": null,
            "left": null,
            "margin": null,
            "max_height": null,
            "max_width": null,
            "min_height": null,
            "min_width": null,
            "object_fit": null,
            "object_position": null,
            "order": null,
            "overflow": null,
            "overflow_x": null,
            "overflow_y": null,
            "padding": null,
            "right": null,
            "top": null,
            "visibility": null,
            "width": null
          }
        },
        "889024f71ab844dcbe0b5bd706c81538": {
          "model_module": "@jupyter-widgets/controls",
          "model_name": "DescriptionStyleModel",
          "model_module_version": "1.5.0",
          "state": {
            "_model_module": "@jupyter-widgets/controls",
            "_model_module_version": "1.5.0",
            "_model_name": "DescriptionStyleModel",
            "_view_count": null,
            "_view_module": "@jupyter-widgets/base",
            "_view_module_version": "1.2.0",
            "_view_name": "StyleView",
            "description_width": ""
          }
        },
        "f007267e046a42f39e61343de354a826": {
          "model_module": "@jupyter-widgets/base",
          "model_name": "LayoutModel",
          "model_module_version": "1.2.0",
          "state": {
            "_model_module": "@jupyter-widgets/base",
            "_model_module_version": "1.2.0",
            "_model_name": "LayoutModel",
            "_view_count": null,
            "_view_module": "@jupyter-widgets/base",
            "_view_module_version": "1.2.0",
            "_view_name": "LayoutView",
            "align_content": null,
            "align_items": null,
            "align_self": null,
            "border": null,
            "bottom": null,
            "display": null,
            "flex": null,
            "flex_flow": null,
            "grid_area": null,
            "grid_auto_columns": null,
            "grid_auto_flow": null,
            "grid_auto_rows": null,
            "grid_column": null,
            "grid_gap": null,
            "grid_row": null,
            "grid_template_areas": null,
            "grid_template_columns": null,
            "grid_template_rows": null,
            "height": null,
            "justify_content": null,
            "justify_items": null,
            "left": null,
            "margin": null,
            "max_height": null,
            "max_width": null,
            "min_height": null,
            "min_width": null,
            "object_fit": null,
            "object_position": null,
            "order": null,
            "overflow": null,
            "overflow_x": null,
            "overflow_y": null,
            "padding": null,
            "right": null,
            "top": null,
            "visibility": null,
            "width": null
          }
        },
        "039bb4620a604f7a8cb75e71a1e98711": {
          "model_module": "@jupyter-widgets/controls",
          "model_name": "ProgressStyleModel",
          "model_module_version": "1.5.0",
          "state": {
            "_model_module": "@jupyter-widgets/controls",
            "_model_module_version": "1.5.0",
            "_model_name": "ProgressStyleModel",
            "_view_count": null,
            "_view_module": "@jupyter-widgets/base",
            "_view_module_version": "1.2.0",
            "_view_name": "StyleView",
            "bar_color": null,
            "description_width": ""
          }
        },
        "97e033c99d0042d98c1ba55dec1f3116": {
          "model_module": "@jupyter-widgets/base",
          "model_name": "LayoutModel",
          "model_module_version": "1.2.0",
          "state": {
            "_model_module": "@jupyter-widgets/base",
            "_model_module_version": "1.2.0",
            "_model_name": "LayoutModel",
            "_view_count": null,
            "_view_module": "@jupyter-widgets/base",
            "_view_module_version": "1.2.0",
            "_view_name": "LayoutView",
            "align_content": null,
            "align_items": null,
            "align_self": null,
            "border": null,
            "bottom": null,
            "display": null,
            "flex": null,
            "flex_flow": null,
            "grid_area": null,
            "grid_auto_columns": null,
            "grid_auto_flow": null,
            "grid_auto_rows": null,
            "grid_column": null,
            "grid_gap": null,
            "grid_row": null,
            "grid_template_areas": null,
            "grid_template_columns": null,
            "grid_template_rows": null,
            "height": null,
            "justify_content": null,
            "justify_items": null,
            "left": null,
            "margin": null,
            "max_height": null,
            "max_width": null,
            "min_height": null,
            "min_width": null,
            "object_fit": null,
            "object_position": null,
            "order": null,
            "overflow": null,
            "overflow_x": null,
            "overflow_y": null,
            "padding": null,
            "right": null,
            "top": null,
            "visibility": null,
            "width": null
          }
        },
        "9bc6068b33b24b21b4fcce9218452c6a": {
          "model_module": "@jupyter-widgets/controls",
          "model_name": "DescriptionStyleModel",
          "model_module_version": "1.5.0",
          "state": {
            "_model_module": "@jupyter-widgets/controls",
            "_model_module_version": "1.5.0",
            "_model_name": "DescriptionStyleModel",
            "_view_count": null,
            "_view_module": "@jupyter-widgets/base",
            "_view_module_version": "1.2.0",
            "_view_name": "StyleView",
            "description_width": ""
          }
        },
        "23e3e47a9a9248909d9a3aca5a705f28": {
          "model_module": "@jupyter-widgets/controls",
          "model_name": "HBoxModel",
          "model_module_version": "1.5.0",
          "state": {
            "_dom_classes": [],
            "_model_module": "@jupyter-widgets/controls",
            "_model_module_version": "1.5.0",
            "_model_name": "HBoxModel",
            "_view_count": null,
            "_view_module": "@jupyter-widgets/controls",
            "_view_module_version": "1.5.0",
            "_view_name": "HBoxView",
            "box_style": "",
            "children": [
              "IPY_MODEL_6f6f9cc8688546878a5183349c8ad47e",
              "IPY_MODEL_9800330e4611419db4605d87ce625313",
              "IPY_MODEL_4fca68c3334f487d9873ffa7397c6d05"
            ],
            "layout": "IPY_MODEL_b8b1398140264b068cfc980d281b37bb"
          }
        },
        "6f6f9cc8688546878a5183349c8ad47e": {
          "model_module": "@jupyter-widgets/controls",
          "model_name": "HTMLModel",
          "model_module_version": "1.5.0",
          "state": {
            "_dom_classes": [],
            "_model_module": "@jupyter-widgets/controls",
            "_model_module_version": "1.5.0",
            "_model_name": "HTMLModel",
            "_view_count": null,
            "_view_module": "@jupyter-widgets/controls",
            "_view_module_version": "1.5.0",
            "_view_name": "HTMLView",
            "description": "",
            "description_tooltip": null,
            "layout": "IPY_MODEL_d0bf9e3777594feb955871bb8bf5804b",
            "placeholder": "​",
            "style": "IPY_MODEL_d4d60e1143d744b5ade99e8763e263f7",
            "value": "config.json: 100%"
          }
        },
        "9800330e4611419db4605d87ce625313": {
          "model_module": "@jupyter-widgets/controls",
          "model_name": "FloatProgressModel",
          "model_module_version": "1.5.0",
          "state": {
            "_dom_classes": [],
            "_model_module": "@jupyter-widgets/controls",
            "_model_module_version": "1.5.0",
            "_model_name": "FloatProgressModel",
            "_view_count": null,
            "_view_module": "@jupyter-widgets/controls",
            "_view_module_version": "1.5.0",
            "_view_name": "ProgressView",
            "bar_style": "success",
            "description": "",
            "description_tooltip": null,
            "layout": "IPY_MODEL_421a039f736e43a6990abb4495a0282c",
            "max": 1534,
            "min": 0,
            "orientation": "horizontal",
            "style": "IPY_MODEL_0893758ea5f54184b48c2f5a42b795cd",
            "value": 1534
          }
        },
        "4fca68c3334f487d9873ffa7397c6d05": {
          "model_module": "@jupyter-widgets/controls",
          "model_name": "HTMLModel",
          "model_module_version": "1.5.0",
          "state": {
            "_dom_classes": [],
            "_model_module": "@jupyter-widgets/controls",
            "_model_module_version": "1.5.0",
            "_model_name": "HTMLModel",
            "_view_count": null,
            "_view_module": "@jupyter-widgets/controls",
            "_view_module_version": "1.5.0",
            "_view_name": "HTMLView",
            "description": "",
            "description_tooltip": null,
            "layout": "IPY_MODEL_6eed8c4ed1364ea787df335abd56e43e",
            "placeholder": "​",
            "style": "IPY_MODEL_fb9e16afaf7d49e895805b8cba1b7ad9",
            "value": " 1.53k/1.53k [00:00&lt;00:00, 148kB/s]"
          }
        },
        "b8b1398140264b068cfc980d281b37bb": {
          "model_module": "@jupyter-widgets/base",
          "model_name": "LayoutModel",
          "model_module_version": "1.2.0",
          "state": {
            "_model_module": "@jupyter-widgets/base",
            "_model_module_version": "1.2.0",
            "_model_name": "LayoutModel",
            "_view_count": null,
            "_view_module": "@jupyter-widgets/base",
            "_view_module_version": "1.2.0",
            "_view_name": "LayoutView",
            "align_content": null,
            "align_items": null,
            "align_self": null,
            "border": null,
            "bottom": null,
            "display": null,
            "flex": null,
            "flex_flow": null,
            "grid_area": null,
            "grid_auto_columns": null,
            "grid_auto_flow": null,
            "grid_auto_rows": null,
            "grid_column": null,
            "grid_gap": null,
            "grid_row": null,
            "grid_template_areas": null,
            "grid_template_columns": null,
            "grid_template_rows": null,
            "height": null,
            "justify_content": null,
            "justify_items": null,
            "left": null,
            "margin": null,
            "max_height": null,
            "max_width": null,
            "min_height": null,
            "min_width": null,
            "object_fit": null,
            "object_position": null,
            "order": null,
            "overflow": null,
            "overflow_x": null,
            "overflow_y": null,
            "padding": null,
            "right": null,
            "top": null,
            "visibility": null,
            "width": null
          }
        },
        "d0bf9e3777594feb955871bb8bf5804b": {
          "model_module": "@jupyter-widgets/base",
          "model_name": "LayoutModel",
          "model_module_version": "1.2.0",
          "state": {
            "_model_module": "@jupyter-widgets/base",
            "_model_module_version": "1.2.0",
            "_model_name": "LayoutModel",
            "_view_count": null,
            "_view_module": "@jupyter-widgets/base",
            "_view_module_version": "1.2.0",
            "_view_name": "LayoutView",
            "align_content": null,
            "align_items": null,
            "align_self": null,
            "border": null,
            "bottom": null,
            "display": null,
            "flex": null,
            "flex_flow": null,
            "grid_area": null,
            "grid_auto_columns": null,
            "grid_auto_flow": null,
            "grid_auto_rows": null,
            "grid_column": null,
            "grid_gap": null,
            "grid_row": null,
            "grid_template_areas": null,
            "grid_template_columns": null,
            "grid_template_rows": null,
            "height": null,
            "justify_content": null,
            "justify_items": null,
            "left": null,
            "margin": null,
            "max_height": null,
            "max_width": null,
            "min_height": null,
            "min_width": null,
            "object_fit": null,
            "object_position": null,
            "order": null,
            "overflow": null,
            "overflow_x": null,
            "overflow_y": null,
            "padding": null,
            "right": null,
            "top": null,
            "visibility": null,
            "width": null
          }
        },
        "d4d60e1143d744b5ade99e8763e263f7": {
          "model_module": "@jupyter-widgets/controls",
          "model_name": "DescriptionStyleModel",
          "model_module_version": "1.5.0",
          "state": {
            "_model_module": "@jupyter-widgets/controls",
            "_model_module_version": "1.5.0",
            "_model_name": "DescriptionStyleModel",
            "_view_count": null,
            "_view_module": "@jupyter-widgets/base",
            "_view_module_version": "1.2.0",
            "_view_name": "StyleView",
            "description_width": ""
          }
        },
        "421a039f736e43a6990abb4495a0282c": {
          "model_module": "@jupyter-widgets/base",
          "model_name": "LayoutModel",
          "model_module_version": "1.2.0",
          "state": {
            "_model_module": "@jupyter-widgets/base",
            "_model_module_version": "1.2.0",
            "_model_name": "LayoutModel",
            "_view_count": null,
            "_view_module": "@jupyter-widgets/base",
            "_view_module_version": "1.2.0",
            "_view_name": "LayoutView",
            "align_content": null,
            "align_items": null,
            "align_self": null,
            "border": null,
            "bottom": null,
            "display": null,
            "flex": null,
            "flex_flow": null,
            "grid_area": null,
            "grid_auto_columns": null,
            "grid_auto_flow": null,
            "grid_auto_rows": null,
            "grid_column": null,
            "grid_gap": null,
            "grid_row": null,
            "grid_template_areas": null,
            "grid_template_columns": null,
            "grid_template_rows": null,
            "height": null,
            "justify_content": null,
            "justify_items": null,
            "left": null,
            "margin": null,
            "max_height": null,
            "max_width": null,
            "min_height": null,
            "min_width": null,
            "object_fit": null,
            "object_position": null,
            "order": null,
            "overflow": null,
            "overflow_x": null,
            "overflow_y": null,
            "padding": null,
            "right": null,
            "top": null,
            "visibility": null,
            "width": null
          }
        },
        "0893758ea5f54184b48c2f5a42b795cd": {
          "model_module": "@jupyter-widgets/controls",
          "model_name": "ProgressStyleModel",
          "model_module_version": "1.5.0",
          "state": {
            "_model_module": "@jupyter-widgets/controls",
            "_model_module_version": "1.5.0",
            "_model_name": "ProgressStyleModel",
            "_view_count": null,
            "_view_module": "@jupyter-widgets/base",
            "_view_module_version": "1.2.0",
            "_view_name": "StyleView",
            "bar_color": null,
            "description_width": ""
          }
        },
        "6eed8c4ed1364ea787df335abd56e43e": {
          "model_module": "@jupyter-widgets/base",
          "model_name": "LayoutModel",
          "model_module_version": "1.2.0",
          "state": {
            "_model_module": "@jupyter-widgets/base",
            "_model_module_version": "1.2.0",
            "_model_name": "LayoutModel",
            "_view_count": null,
            "_view_module": "@jupyter-widgets/base",
            "_view_module_version": "1.2.0",
            "_view_name": "LayoutView",
            "align_content": null,
            "align_items": null,
            "align_self": null,
            "border": null,
            "bottom": null,
            "display": null,
            "flex": null,
            "flex_flow": null,
            "grid_area": null,
            "grid_auto_columns": null,
            "grid_auto_flow": null,
            "grid_auto_rows": null,
            "grid_column": null,
            "grid_gap": null,
            "grid_row": null,
            "grid_template_areas": null,
            "grid_template_columns": null,
            "grid_template_rows": null,
            "height": null,
            "justify_content": null,
            "justify_items": null,
            "left": null,
            "margin": null,
            "max_height": null,
            "max_width": null,
            "min_height": null,
            "min_width": null,
            "object_fit": null,
            "object_position": null,
            "order": null,
            "overflow": null,
            "overflow_x": null,
            "overflow_y": null,
            "padding": null,
            "right": null,
            "top": null,
            "visibility": null,
            "width": null
          }
        },
        "fb9e16afaf7d49e895805b8cba1b7ad9": {
          "model_module": "@jupyter-widgets/controls",
          "model_name": "DescriptionStyleModel",
          "model_module_version": "1.5.0",
          "state": {
            "_model_module": "@jupyter-widgets/controls",
            "_model_module_version": "1.5.0",
            "_model_name": "DescriptionStyleModel",
            "_view_count": null,
            "_view_module": "@jupyter-widgets/base",
            "_view_module_version": "1.2.0",
            "_view_name": "StyleView",
            "description_width": ""
          }
        },
        "f871e91e06334df6bb36f95b48ec7cf8": {
          "model_module": "@jupyter-widgets/controls",
          "model_name": "HBoxModel",
          "model_module_version": "1.5.0",
          "state": {
            "_dom_classes": [],
            "_model_module": "@jupyter-widgets/controls",
            "_model_module_version": "1.5.0",
            "_model_name": "HBoxModel",
            "_view_count": null,
            "_view_module": "@jupyter-widgets/controls",
            "_view_module_version": "1.5.0",
            "_view_name": "HBoxView",
            "box_style": "",
            "children": [
              "IPY_MODEL_dc32fbdc43fa49bd97285298cfa7ce48",
              "IPY_MODEL_22307352e3e340a191a5c5d5f2f956d0",
              "IPY_MODEL_34e874ba025b456599b6cf5f7fa79e30"
            ],
            "layout": "IPY_MODEL_7bd387e93ce54f75a37113b61af5b1ec"
          }
        },
        "dc32fbdc43fa49bd97285298cfa7ce48": {
          "model_module": "@jupyter-widgets/controls",
          "model_name": "HTMLModel",
          "model_module_version": "1.5.0",
          "state": {
            "_dom_classes": [],
            "_model_module": "@jupyter-widgets/controls",
            "_model_module_version": "1.5.0",
            "_model_name": "HTMLModel",
            "_view_count": null,
            "_view_module": "@jupyter-widgets/controls",
            "_view_module_version": "1.5.0",
            "_view_name": "HTMLView",
            "description": "",
            "description_tooltip": null,
            "layout": "IPY_MODEL_db2d14bfa6d64368b8ec8c13576aec60",
            "placeholder": "​",
            "style": "IPY_MODEL_7db1dcc51ecc4ee4b7865f50db3c58a6",
            "value": "vocab.txt: 100%"
          }
        },
        "22307352e3e340a191a5c5d5f2f956d0": {
          "model_module": "@jupyter-widgets/controls",
          "model_name": "FloatProgressModel",
          "model_module_version": "1.5.0",
          "state": {
            "_dom_classes": [],
            "_model_module": "@jupyter-widgets/controls",
            "_model_module_version": "1.5.0",
            "_model_name": "FloatProgressModel",
            "_view_count": null,
            "_view_module": "@jupyter-widgets/controls",
            "_view_module_version": "1.5.0",
            "_view_name": "ProgressView",
            "bar_style": "success",
            "description": "",
            "description_tooltip": null,
            "layout": "IPY_MODEL_9b8a9a3a20fc4ee0b7a9665c4c439392",
            "max": 229167,
            "min": 0,
            "orientation": "horizontal",
            "style": "IPY_MODEL_c5ea42ac839a414ca3934d4a4cccb880",
            "value": 229167
          }
        },
        "34e874ba025b456599b6cf5f7fa79e30": {
          "model_module": "@jupyter-widgets/controls",
          "model_name": "HTMLModel",
          "model_module_version": "1.5.0",
          "state": {
            "_dom_classes": [],
            "_model_module": "@jupyter-widgets/controls",
            "_model_module_version": "1.5.0",
            "_model_name": "HTMLModel",
            "_view_count": null,
            "_view_module": "@jupyter-widgets/controls",
            "_view_module_version": "1.5.0",
            "_view_name": "HTMLView",
            "description": "",
            "description_tooltip": null,
            "layout": "IPY_MODEL_59136286e4904dd581cdb2a653d56b0c",
            "placeholder": "​",
            "style": "IPY_MODEL_9f341e3865214ccfbcf3bd0bca48d7dc",
            "value": " 229k/229k [00:00&lt;00:00, 12.1MB/s]"
          }
        },
        "7bd387e93ce54f75a37113b61af5b1ec": {
          "model_module": "@jupyter-widgets/base",
          "model_name": "LayoutModel",
          "model_module_version": "1.2.0",
          "state": {
            "_model_module": "@jupyter-widgets/base",
            "_model_module_version": "1.2.0",
            "_model_name": "LayoutModel",
            "_view_count": null,
            "_view_module": "@jupyter-widgets/base",
            "_view_module_version": "1.2.0",
            "_view_name": "LayoutView",
            "align_content": null,
            "align_items": null,
            "align_self": null,
            "border": null,
            "bottom": null,
            "display": null,
            "flex": null,
            "flex_flow": null,
            "grid_area": null,
            "grid_auto_columns": null,
            "grid_auto_flow": null,
            "grid_auto_rows": null,
            "grid_column": null,
            "grid_gap": null,
            "grid_row": null,
            "grid_template_areas": null,
            "grid_template_columns": null,
            "grid_template_rows": null,
            "height": null,
            "justify_content": null,
            "justify_items": null,
            "left": null,
            "margin": null,
            "max_height": null,
            "max_width": null,
            "min_height": null,
            "min_width": null,
            "object_fit": null,
            "object_position": null,
            "order": null,
            "overflow": null,
            "overflow_x": null,
            "overflow_y": null,
            "padding": null,
            "right": null,
            "top": null,
            "visibility": null,
            "width": null
          }
        },
        "db2d14bfa6d64368b8ec8c13576aec60": {
          "model_module": "@jupyter-widgets/base",
          "model_name": "LayoutModel",
          "model_module_version": "1.2.0",
          "state": {
            "_model_module": "@jupyter-widgets/base",
            "_model_module_version": "1.2.0",
            "_model_name": "LayoutModel",
            "_view_count": null,
            "_view_module": "@jupyter-widgets/base",
            "_view_module_version": "1.2.0",
            "_view_name": "LayoutView",
            "align_content": null,
            "align_items": null,
            "align_self": null,
            "border": null,
            "bottom": null,
            "display": null,
            "flex": null,
            "flex_flow": null,
            "grid_area": null,
            "grid_auto_columns": null,
            "grid_auto_flow": null,
            "grid_auto_rows": null,
            "grid_column": null,
            "grid_gap": null,
            "grid_row": null,
            "grid_template_areas": null,
            "grid_template_columns": null,
            "grid_template_rows": null,
            "height": null,
            "justify_content": null,
            "justify_items": null,
            "left": null,
            "margin": null,
            "max_height": null,
            "max_width": null,
            "min_height": null,
            "min_width": null,
            "object_fit": null,
            "object_position": null,
            "order": null,
            "overflow": null,
            "overflow_x": null,
            "overflow_y": null,
            "padding": null,
            "right": null,
            "top": null,
            "visibility": null,
            "width": null
          }
        },
        "7db1dcc51ecc4ee4b7865f50db3c58a6": {
          "model_module": "@jupyter-widgets/controls",
          "model_name": "DescriptionStyleModel",
          "model_module_version": "1.5.0",
          "state": {
            "_model_module": "@jupyter-widgets/controls",
            "_model_module_version": "1.5.0",
            "_model_name": "DescriptionStyleModel",
            "_view_count": null,
            "_view_module": "@jupyter-widgets/base",
            "_view_module_version": "1.2.0",
            "_view_name": "StyleView",
            "description_width": ""
          }
        },
        "9b8a9a3a20fc4ee0b7a9665c4c439392": {
          "model_module": "@jupyter-widgets/base",
          "model_name": "LayoutModel",
          "model_module_version": "1.2.0",
          "state": {
            "_model_module": "@jupyter-widgets/base",
            "_model_module_version": "1.2.0",
            "_model_name": "LayoutModel",
            "_view_count": null,
            "_view_module": "@jupyter-widgets/base",
            "_view_module_version": "1.2.0",
            "_view_name": "LayoutView",
            "align_content": null,
            "align_items": null,
            "align_self": null,
            "border": null,
            "bottom": null,
            "display": null,
            "flex": null,
            "flex_flow": null,
            "grid_area": null,
            "grid_auto_columns": null,
            "grid_auto_flow": null,
            "grid_auto_rows": null,
            "grid_column": null,
            "grid_gap": null,
            "grid_row": null,
            "grid_template_areas": null,
            "grid_template_columns": null,
            "grid_template_rows": null,
            "height": null,
            "justify_content": null,
            "justify_items": null,
            "left": null,
            "margin": null,
            "max_height": null,
            "max_width": null,
            "min_height": null,
            "min_width": null,
            "object_fit": null,
            "object_position": null,
            "order": null,
            "overflow": null,
            "overflow_x": null,
            "overflow_y": null,
            "padding": null,
            "right": null,
            "top": null,
            "visibility": null,
            "width": null
          }
        },
        "c5ea42ac839a414ca3934d4a4cccb880": {
          "model_module": "@jupyter-widgets/controls",
          "model_name": "ProgressStyleModel",
          "model_module_version": "1.5.0",
          "state": {
            "_model_module": "@jupyter-widgets/controls",
            "_model_module_version": "1.5.0",
            "_model_name": "ProgressStyleModel",
            "_view_count": null,
            "_view_module": "@jupyter-widgets/base",
            "_view_module_version": "1.2.0",
            "_view_name": "StyleView",
            "bar_color": null,
            "description_width": ""
          }
        },
        "59136286e4904dd581cdb2a653d56b0c": {
          "model_module": "@jupyter-widgets/base",
          "model_name": "LayoutModel",
          "model_module_version": "1.2.0",
          "state": {
            "_model_module": "@jupyter-widgets/base",
            "_model_module_version": "1.2.0",
            "_model_name": "LayoutModel",
            "_view_count": null,
            "_view_module": "@jupyter-widgets/base",
            "_view_module_version": "1.2.0",
            "_view_name": "LayoutView",
            "align_content": null,
            "align_items": null,
            "align_self": null,
            "border": null,
            "bottom": null,
            "display": null,
            "flex": null,
            "flex_flow": null,
            "grid_area": null,
            "grid_auto_columns": null,
            "grid_auto_flow": null,
            "grid_auto_rows": null,
            "grid_column": null,
            "grid_gap": null,
            "grid_row": null,
            "grid_template_areas": null,
            "grid_template_columns": null,
            "grid_template_rows": null,
            "height": null,
            "justify_content": null,
            "justify_items": null,
            "left": null,
            "margin": null,
            "max_height": null,
            "max_width": null,
            "min_height": null,
            "min_width": null,
            "object_fit": null,
            "object_position": null,
            "order": null,
            "overflow": null,
            "overflow_x": null,
            "overflow_y": null,
            "padding": null,
            "right": null,
            "top": null,
            "visibility": null,
            "width": null
          }
        },
        "9f341e3865214ccfbcf3bd0bca48d7dc": {
          "model_module": "@jupyter-widgets/controls",
          "model_name": "DescriptionStyleModel",
          "model_module_version": "1.5.0",
          "state": {
            "_model_module": "@jupyter-widgets/controls",
            "_model_module_version": "1.5.0",
            "_model_name": "DescriptionStyleModel",
            "_view_count": null,
            "_view_module": "@jupyter-widgets/base",
            "_view_module_version": "1.2.0",
            "_view_name": "StyleView",
            "description_width": ""
          }
        },
        "143de8f83f2b460ca8a3947f5d116f52": {
          "model_module": "@jupyter-widgets/controls",
          "model_name": "HBoxModel",
          "model_module_version": "1.5.0",
          "state": {
            "_dom_classes": [],
            "_model_module": "@jupyter-widgets/controls",
            "_model_module_version": "1.5.0",
            "_model_name": "HBoxModel",
            "_view_count": null,
            "_view_module": "@jupyter-widgets/controls",
            "_view_module_version": "1.5.0",
            "_view_name": "HBoxView",
            "box_style": "",
            "children": [
              "IPY_MODEL_817492b3b9b34c739ab3a86b5d01ddb6",
              "IPY_MODEL_9ba7df3d578d4f4593249b1b1e37dd78",
              "IPY_MODEL_e17733dd4387439bb91975cc9f8b4e45"
            ],
            "layout": "IPY_MODEL_cb17b5920a3449f981882f53109decc7"
          }
        },
        "817492b3b9b34c739ab3a86b5d01ddb6": {
          "model_module": "@jupyter-widgets/controls",
          "model_name": "HTMLModel",
          "model_module_version": "1.5.0",
          "state": {
            "_dom_classes": [],
            "_model_module": "@jupyter-widgets/controls",
            "_model_module_version": "1.5.0",
            "_model_name": "HTMLModel",
            "_view_count": null,
            "_view_module": "@jupyter-widgets/controls",
            "_view_module_version": "1.5.0",
            "_view_name": "HTMLView",
            "description": "",
            "description_tooltip": null,
            "layout": "IPY_MODEL_61331941fe814398947d1c1ae403bdf4",
            "placeholder": "​",
            "style": "IPY_MODEL_047e9deea0d642bd8d9b149b6aabe38c",
            "value": "special_tokens_map.json: 100%"
          }
        },
        "9ba7df3d578d4f4593249b1b1e37dd78": {
          "model_module": "@jupyter-widgets/controls",
          "model_name": "FloatProgressModel",
          "model_module_version": "1.5.0",
          "state": {
            "_dom_classes": [],
            "_model_module": "@jupyter-widgets/controls",
            "_model_module_version": "1.5.0",
            "_model_name": "FloatProgressModel",
            "_view_count": null,
            "_view_module": "@jupyter-widgets/controls",
            "_view_module_version": "1.5.0",
            "_view_name": "ProgressView",
            "bar_style": "success",
            "description": "",
            "description_tooltip": null,
            "layout": "IPY_MODEL_e0f4812d7b06422bba6295814248c7e2",
            "max": 112,
            "min": 0,
            "orientation": "horizontal",
            "style": "IPY_MODEL_27a6ff23d58a4eefaecadaa068d57205",
            "value": 112
          }
        },
        "e17733dd4387439bb91975cc9f8b4e45": {
          "model_module": "@jupyter-widgets/controls",
          "model_name": "HTMLModel",
          "model_module_version": "1.5.0",
          "state": {
            "_dom_classes": [],
            "_model_module": "@jupyter-widgets/controls",
            "_model_module_version": "1.5.0",
            "_model_name": "HTMLModel",
            "_view_count": null,
            "_view_module": "@jupyter-widgets/controls",
            "_view_module_version": "1.5.0",
            "_view_name": "HTMLView",
            "description": "",
            "description_tooltip": null,
            "layout": "IPY_MODEL_fa4f6ef445db496da25af8a8316ee4be",
            "placeholder": "​",
            "style": "IPY_MODEL_a95700200e0c4ff5b4612544dbc26a3e",
            "value": " 112/112 [00:00&lt;00:00, 8.83kB/s]"
          }
        },
        "cb17b5920a3449f981882f53109decc7": {
          "model_module": "@jupyter-widgets/base",
          "model_name": "LayoutModel",
          "model_module_version": "1.2.0",
          "state": {
            "_model_module": "@jupyter-widgets/base",
            "_model_module_version": "1.2.0",
            "_model_name": "LayoutModel",
            "_view_count": null,
            "_view_module": "@jupyter-widgets/base",
            "_view_module_version": "1.2.0",
            "_view_name": "LayoutView",
            "align_content": null,
            "align_items": null,
            "align_self": null,
            "border": null,
            "bottom": null,
            "display": null,
            "flex": null,
            "flex_flow": null,
            "grid_area": null,
            "grid_auto_columns": null,
            "grid_auto_flow": null,
            "grid_auto_rows": null,
            "grid_column": null,
            "grid_gap": null,
            "grid_row": null,
            "grid_template_areas": null,
            "grid_template_columns": null,
            "grid_template_rows": null,
            "height": null,
            "justify_content": null,
            "justify_items": null,
            "left": null,
            "margin": null,
            "max_height": null,
            "max_width": null,
            "min_height": null,
            "min_width": null,
            "object_fit": null,
            "object_position": null,
            "order": null,
            "overflow": null,
            "overflow_x": null,
            "overflow_y": null,
            "padding": null,
            "right": null,
            "top": null,
            "visibility": null,
            "width": null
          }
        },
        "61331941fe814398947d1c1ae403bdf4": {
          "model_module": "@jupyter-widgets/base",
          "model_name": "LayoutModel",
          "model_module_version": "1.2.0",
          "state": {
            "_model_module": "@jupyter-widgets/base",
            "_model_module_version": "1.2.0",
            "_model_name": "LayoutModel",
            "_view_count": null,
            "_view_module": "@jupyter-widgets/base",
            "_view_module_version": "1.2.0",
            "_view_name": "LayoutView",
            "align_content": null,
            "align_items": null,
            "align_self": null,
            "border": null,
            "bottom": null,
            "display": null,
            "flex": null,
            "flex_flow": null,
            "grid_area": null,
            "grid_auto_columns": null,
            "grid_auto_flow": null,
            "grid_auto_rows": null,
            "grid_column": null,
            "grid_gap": null,
            "grid_row": null,
            "grid_template_areas": null,
            "grid_template_columns": null,
            "grid_template_rows": null,
            "height": null,
            "justify_content": null,
            "justify_items": null,
            "left": null,
            "margin": null,
            "max_height": null,
            "max_width": null,
            "min_height": null,
            "min_width": null,
            "object_fit": null,
            "object_position": null,
            "order": null,
            "overflow": null,
            "overflow_x": null,
            "overflow_y": null,
            "padding": null,
            "right": null,
            "top": null,
            "visibility": null,
            "width": null
          }
        },
        "047e9deea0d642bd8d9b149b6aabe38c": {
          "model_module": "@jupyter-widgets/controls",
          "model_name": "DescriptionStyleModel",
          "model_module_version": "1.5.0",
          "state": {
            "_model_module": "@jupyter-widgets/controls",
            "_model_module_version": "1.5.0",
            "_model_name": "DescriptionStyleModel",
            "_view_count": null,
            "_view_module": "@jupyter-widgets/base",
            "_view_module_version": "1.2.0",
            "_view_name": "StyleView",
            "description_width": ""
          }
        },
        "e0f4812d7b06422bba6295814248c7e2": {
          "model_module": "@jupyter-widgets/base",
          "model_name": "LayoutModel",
          "model_module_version": "1.2.0",
          "state": {
            "_model_module": "@jupyter-widgets/base",
            "_model_module_version": "1.2.0",
            "_model_name": "LayoutModel",
            "_view_count": null,
            "_view_module": "@jupyter-widgets/base",
            "_view_module_version": "1.2.0",
            "_view_name": "LayoutView",
            "align_content": null,
            "align_items": null,
            "align_self": null,
            "border": null,
            "bottom": null,
            "display": null,
            "flex": null,
            "flex_flow": null,
            "grid_area": null,
            "grid_auto_columns": null,
            "grid_auto_flow": null,
            "grid_auto_rows": null,
            "grid_column": null,
            "grid_gap": null,
            "grid_row": null,
            "grid_template_areas": null,
            "grid_template_columns": null,
            "grid_template_rows": null,
            "height": null,
            "justify_content": null,
            "justify_items": null,
            "left": null,
            "margin": null,
            "max_height": null,
            "max_width": null,
            "min_height": null,
            "min_width": null,
            "object_fit": null,
            "object_position": null,
            "order": null,
            "overflow": null,
            "overflow_x": null,
            "overflow_y": null,
            "padding": null,
            "right": null,
            "top": null,
            "visibility": null,
            "width": null
          }
        },
        "27a6ff23d58a4eefaecadaa068d57205": {
          "model_module": "@jupyter-widgets/controls",
          "model_name": "ProgressStyleModel",
          "model_module_version": "1.5.0",
          "state": {
            "_model_module": "@jupyter-widgets/controls",
            "_model_module_version": "1.5.0",
            "_model_name": "ProgressStyleModel",
            "_view_count": null,
            "_view_module": "@jupyter-widgets/base",
            "_view_module_version": "1.2.0",
            "_view_name": "StyleView",
            "bar_color": null,
            "description_width": ""
          }
        },
        "fa4f6ef445db496da25af8a8316ee4be": {
          "model_module": "@jupyter-widgets/base",
          "model_name": "LayoutModel",
          "model_module_version": "1.2.0",
          "state": {
            "_model_module": "@jupyter-widgets/base",
            "_model_module_version": "1.2.0",
            "_model_name": "LayoutModel",
            "_view_count": null,
            "_view_module": "@jupyter-widgets/base",
            "_view_module_version": "1.2.0",
            "_view_name": "LayoutView",
            "align_content": null,
            "align_items": null,
            "align_self": null,
            "border": null,
            "bottom": null,
            "display": null,
            "flex": null,
            "flex_flow": null,
            "grid_area": null,
            "grid_auto_columns": null,
            "grid_auto_flow": null,
            "grid_auto_rows": null,
            "grid_column": null,
            "grid_gap": null,
            "grid_row": null,
            "grid_template_areas": null,
            "grid_template_columns": null,
            "grid_template_rows": null,
            "height": null,
            "justify_content": null,
            "justify_items": null,
            "left": null,
            "margin": null,
            "max_height": null,
            "max_width": null,
            "min_height": null,
            "min_width": null,
            "object_fit": null,
            "object_position": null,
            "order": null,
            "overflow": null,
            "overflow_x": null,
            "overflow_y": null,
            "padding": null,
            "right": null,
            "top": null,
            "visibility": null,
            "width": null
          }
        },
        "a95700200e0c4ff5b4612544dbc26a3e": {
          "model_module": "@jupyter-widgets/controls",
          "model_name": "DescriptionStyleModel",
          "model_module_version": "1.5.0",
          "state": {
            "_model_module": "@jupyter-widgets/controls",
            "_model_module_version": "1.5.0",
            "_model_name": "DescriptionStyleModel",
            "_view_count": null,
            "_view_module": "@jupyter-widgets/base",
            "_view_module_version": "1.2.0",
            "_view_name": "StyleView",
            "description_width": ""
          }
        },
        "03b15e51abf740c9ac63c94b7c7fb746": {
          "model_module": "@jupyter-widgets/controls",
          "model_name": "HBoxModel",
          "model_module_version": "1.5.0",
          "state": {
            "_dom_classes": [],
            "_model_module": "@jupyter-widgets/controls",
            "_model_module_version": "1.5.0",
            "_model_name": "HBoxModel",
            "_view_count": null,
            "_view_module": "@jupyter-widgets/controls",
            "_view_module_version": "1.5.0",
            "_view_name": "HBoxView",
            "box_style": "",
            "children": [
              "IPY_MODEL_4440b108f9c14cc49e16b2bbef151e8e",
              "IPY_MODEL_2910b21c784b4dfdb28beb3c4be5d397",
              "IPY_MODEL_2b1830da7ff64c39b1ca7d4f7771e90e"
            ],
            "layout": "IPY_MODEL_bdc544357605483db5983d85ae758df7"
          }
        },
        "4440b108f9c14cc49e16b2bbef151e8e": {
          "model_module": "@jupyter-widgets/controls",
          "model_name": "HTMLModel",
          "model_module_version": "1.5.0",
          "state": {
            "_dom_classes": [],
            "_model_module": "@jupyter-widgets/controls",
            "_model_module_version": "1.5.0",
            "_model_name": "HTMLModel",
            "_view_count": null,
            "_view_module": "@jupyter-widgets/controls",
            "_view_module_version": "1.5.0",
            "_view_name": "HTMLView",
            "description": "",
            "description_tooltip": null,
            "layout": "IPY_MODEL_f6d2a5ad32f8487995bc41f88a242ab6",
            "placeholder": "​",
            "style": "IPY_MODEL_a7182ef5e59a4cbf8db7488c0d255994",
            "value": "tf_model.h5: 100%"
          }
        },
        "2910b21c784b4dfdb28beb3c4be5d397": {
          "model_module": "@jupyter-widgets/controls",
          "model_name": "FloatProgressModel",
          "model_module_version": "1.5.0",
          "state": {
            "_dom_classes": [],
            "_model_module": "@jupyter-widgets/controls",
            "_model_module_version": "1.5.0",
            "_model_name": "FloatProgressModel",
            "_view_count": null,
            "_view_module": "@jupyter-widgets/controls",
            "_view_module_version": "1.5.0",
            "_view_name": "ProgressView",
            "bar_style": "success",
            "description": "",
            "description_tooltip": null,
            "layout": "IPY_MODEL_b7cc35b41d8643679910fdac93ee6cc5",
            "max": 655811760,
            "min": 0,
            "orientation": "horizontal",
            "style": "IPY_MODEL_ce1e93d960e94273874aa10b3922f001",
            "value": 655811760
          }
        },
        "2b1830da7ff64c39b1ca7d4f7771e90e": {
          "model_module": "@jupyter-widgets/controls",
          "model_name": "HTMLModel",
          "model_module_version": "1.5.0",
          "state": {
            "_dom_classes": [],
            "_model_module": "@jupyter-widgets/controls",
            "_model_module_version": "1.5.0",
            "_model_name": "HTMLModel",
            "_view_count": null,
            "_view_module": "@jupyter-widgets/controls",
            "_view_module_version": "1.5.0",
            "_view_name": "HTMLView",
            "description": "",
            "description_tooltip": null,
            "layout": "IPY_MODEL_ceec1be271cd4b22b59aee90af7b04be",
            "placeholder": "​",
            "style": "IPY_MODEL_f5219bd5177c410b91617c6c899d8ab2",
            "value": " 656M/656M [00:03&lt;00:00, 200MB/s]"
          }
        },
        "bdc544357605483db5983d85ae758df7": {
          "model_module": "@jupyter-widgets/base",
          "model_name": "LayoutModel",
          "model_module_version": "1.2.0",
          "state": {
            "_model_module": "@jupyter-widgets/base",
            "_model_module_version": "1.2.0",
            "_model_name": "LayoutModel",
            "_view_count": null,
            "_view_module": "@jupyter-widgets/base",
            "_view_module_version": "1.2.0",
            "_view_name": "LayoutView",
            "align_content": null,
            "align_items": null,
            "align_self": null,
            "border": null,
            "bottom": null,
            "display": null,
            "flex": null,
            "flex_flow": null,
            "grid_area": null,
            "grid_auto_columns": null,
            "grid_auto_flow": null,
            "grid_auto_rows": null,
            "grid_column": null,
            "grid_gap": null,
            "grid_row": null,
            "grid_template_areas": null,
            "grid_template_columns": null,
            "grid_template_rows": null,
            "height": null,
            "justify_content": null,
            "justify_items": null,
            "left": null,
            "margin": null,
            "max_height": null,
            "max_width": null,
            "min_height": null,
            "min_width": null,
            "object_fit": null,
            "object_position": null,
            "order": null,
            "overflow": null,
            "overflow_x": null,
            "overflow_y": null,
            "padding": null,
            "right": null,
            "top": null,
            "visibility": null,
            "width": null
          }
        },
        "f6d2a5ad32f8487995bc41f88a242ab6": {
          "model_module": "@jupyter-widgets/base",
          "model_name": "LayoutModel",
          "model_module_version": "1.2.0",
          "state": {
            "_model_module": "@jupyter-widgets/base",
            "_model_module_version": "1.2.0",
            "_model_name": "LayoutModel",
            "_view_count": null,
            "_view_module": "@jupyter-widgets/base",
            "_view_module_version": "1.2.0",
            "_view_name": "LayoutView",
            "align_content": null,
            "align_items": null,
            "align_self": null,
            "border": null,
            "bottom": null,
            "display": null,
            "flex": null,
            "flex_flow": null,
            "grid_area": null,
            "grid_auto_columns": null,
            "grid_auto_flow": null,
            "grid_auto_rows": null,
            "grid_column": null,
            "grid_gap": null,
            "grid_row": null,
            "grid_template_areas": null,
            "grid_template_columns": null,
            "grid_template_rows": null,
            "height": null,
            "justify_content": null,
            "justify_items": null,
            "left": null,
            "margin": null,
            "max_height": null,
            "max_width": null,
            "min_height": null,
            "min_width": null,
            "object_fit": null,
            "object_position": null,
            "order": null,
            "overflow": null,
            "overflow_x": null,
            "overflow_y": null,
            "padding": null,
            "right": null,
            "top": null,
            "visibility": null,
            "width": null
          }
        },
        "a7182ef5e59a4cbf8db7488c0d255994": {
          "model_module": "@jupyter-widgets/controls",
          "model_name": "DescriptionStyleModel",
          "model_module_version": "1.5.0",
          "state": {
            "_model_module": "@jupyter-widgets/controls",
            "_model_module_version": "1.5.0",
            "_model_name": "DescriptionStyleModel",
            "_view_count": null,
            "_view_module": "@jupyter-widgets/base",
            "_view_module_version": "1.2.0",
            "_view_name": "StyleView",
            "description_width": ""
          }
        },
        "b7cc35b41d8643679910fdac93ee6cc5": {
          "model_module": "@jupyter-widgets/base",
          "model_name": "LayoutModel",
          "model_module_version": "1.2.0",
          "state": {
            "_model_module": "@jupyter-widgets/base",
            "_model_module_version": "1.2.0",
            "_model_name": "LayoutModel",
            "_view_count": null,
            "_view_module": "@jupyter-widgets/base",
            "_view_module_version": "1.2.0",
            "_view_name": "LayoutView",
            "align_content": null,
            "align_items": null,
            "align_self": null,
            "border": null,
            "bottom": null,
            "display": null,
            "flex": null,
            "flex_flow": null,
            "grid_area": null,
            "grid_auto_columns": null,
            "grid_auto_flow": null,
            "grid_auto_rows": null,
            "grid_column": null,
            "grid_gap": null,
            "grid_row": null,
            "grid_template_areas": null,
            "grid_template_columns": null,
            "grid_template_rows": null,
            "height": null,
            "justify_content": null,
            "justify_items": null,
            "left": null,
            "margin": null,
            "max_height": null,
            "max_width": null,
            "min_height": null,
            "min_width": null,
            "object_fit": null,
            "object_position": null,
            "order": null,
            "overflow": null,
            "overflow_x": null,
            "overflow_y": null,
            "padding": null,
            "right": null,
            "top": null,
            "visibility": null,
            "width": null
          }
        },
        "ce1e93d960e94273874aa10b3922f001": {
          "model_module": "@jupyter-widgets/controls",
          "model_name": "ProgressStyleModel",
          "model_module_version": "1.5.0",
          "state": {
            "_model_module": "@jupyter-widgets/controls",
            "_model_module_version": "1.5.0",
            "_model_name": "ProgressStyleModel",
            "_view_count": null,
            "_view_module": "@jupyter-widgets/base",
            "_view_module_version": "1.2.0",
            "_view_name": "StyleView",
            "bar_color": null,
            "description_width": ""
          }
        },
        "ceec1be271cd4b22b59aee90af7b04be": {
          "model_module": "@jupyter-widgets/base",
          "model_name": "LayoutModel",
          "model_module_version": "1.2.0",
          "state": {
            "_model_module": "@jupyter-widgets/base",
            "_model_module_version": "1.2.0",
            "_model_name": "LayoutModel",
            "_view_count": null,
            "_view_module": "@jupyter-widgets/base",
            "_view_module_version": "1.2.0",
            "_view_name": "LayoutView",
            "align_content": null,
            "align_items": null,
            "align_self": null,
            "border": null,
            "bottom": null,
            "display": null,
            "flex": null,
            "flex_flow": null,
            "grid_area": null,
            "grid_auto_columns": null,
            "grid_auto_flow": null,
            "grid_auto_rows": null,
            "grid_column": null,
            "grid_gap": null,
            "grid_row": null,
            "grid_template_areas": null,
            "grid_template_columns": null,
            "grid_template_rows": null,
            "height": null,
            "justify_content": null,
            "justify_items": null,
            "left": null,
            "margin": null,
            "max_height": null,
            "max_width": null,
            "min_height": null,
            "min_width": null,
            "object_fit": null,
            "object_position": null,
            "order": null,
            "overflow": null,
            "overflow_x": null,
            "overflow_y": null,
            "padding": null,
            "right": null,
            "top": null,
            "visibility": null,
            "width": null
          }
        },
        "f5219bd5177c410b91617c6c899d8ab2": {
          "model_module": "@jupyter-widgets/controls",
          "model_name": "DescriptionStyleModel",
          "model_module_version": "1.5.0",
          "state": {
            "_model_module": "@jupyter-widgets/controls",
            "_model_module_version": "1.5.0",
            "_model_name": "DescriptionStyleModel",
            "_view_count": null,
            "_view_module": "@jupyter-widgets/base",
            "_view_module_version": "1.2.0",
            "_view_name": "StyleView",
            "description_width": ""
          }
        }
      }
    }
  },
  "nbformat": 4,
  "nbformat_minor": 0
}